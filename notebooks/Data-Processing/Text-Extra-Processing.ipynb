{
 "cells": [
  {
   "cell_type": "code",
   "execution_count": 1,
   "id": "f88b1a86-93cb-44ff-b3dc-0b82f6f34f55",
   "metadata": {},
   "outputs": [],
   "source": [
    "import numpy as np\n",
    "import pandas as pd"
   ]
  },
  {
   "cell_type": "code",
   "execution_count": 2,
   "id": "efae2d8b-7e05-4843-ba1f-be5616115cbc",
   "metadata": {},
   "outputs": [
    {
     "name": "stderr",
     "output_type": "stream",
     "text": [
      "[nltk_data] Downloading package stopwords to\n",
      "[nltk_data]     C:\\Users\\Максат\\AppData\\Roaming\\nltk_data...\n",
      "[nltk_data]   Package stopwords is already up-to-date!\n"
     ]
    }
   ],
   "source": [
    "import nltk\n",
    "import re\n",
    "from nltk.corpus import stopwords\n",
    "import pymorphy3\n",
    "\n",
    "nltk.download('stopwords')\n",
    "\n",
    "stop_words = stopwords.words('russian')"
   ]
  },
  {
   "cell_type": "code",
   "execution_count": 3,
   "id": "39806e5b-87e7-419f-ac42-fe50da3354cf",
   "metadata": {},
   "outputs": [],
   "source": [
    "def extra_proccessing(text):\n",
    "    \n",
    "    global stop_words\n",
    "    \n",
    "    text = re.sub(r'[^\\w\\s]', '', text)\n",
    "\n",
    "    text = ' '.join([word for word in text.split(' ') if word not in stop_words])\n",
    "\n",
    "    text = ' '.join([pymorphy3.MorphAnalyzer().parse(word)[0].normal_form for word in text.split()])\n",
    "\n",
    "    return text"
   ]
  },
  {
   "cell_type": "code",
   "execution_count": 4,
   "id": "612e5c91-2f7b-47a3-aa44-ac4c9373d268",
   "metadata": {},
   "outputs": [],
   "source": [
    "X_train_df = pd.read_csv(\"../../data/processed/train/text_train_df.csv\", index_col=0)\n",
    "X_val_df = pd.read_csv(\"../../data/processed/train/text_train_df.csv\", index_col=0)"
   ]
  },
  {
   "cell_type": "code",
   "execution_count": 5,
   "id": "b4645c35-07a2-4356-862c-2da7972f8b9b",
   "metadata": {},
   "outputs": [],
   "source": [
    "X_train_df = X_train_df.fillna('')\n",
    "X_val_df = X_val_df.fillna('')"
   ]
  },
  {
   "cell_type": "code",
   "execution_count": 6,
   "id": "a96960f3-b1a1-4f2d-9cb1-84dba2a43d4a",
   "metadata": {},
   "outputs": [],
   "source": [
    "Train_clean = X_train_df[\"text\"].apply(extra_proccessing)\n",
    "Val_clean = X_val_df[\"text\"].apply(extra_proccessing)"
   ]
  },
  {
   "cell_type": "code",
   "execution_count": 7,
   "id": "eb2c64de-3c03-4e39-ae74-bdd4f6ca5d0b",
   "metadata": {},
   "outputs": [],
   "source": [
    "Train_clean.to_csv(\"../../data/fully-cleaned/text_train_cleaned.csv\")\n",
    "Val_clean.to_csv(\"../../data/fully-cleaned/text_val_cleaned.csv\")"
   ]
  }
 ],
 "metadata": {
  "kernelspec": {
   "display_name": "Python 3 (ipykernel)",
   "language": "python",
   "name": "python3"
  },
  "language_info": {
   "codemirror_mode": {
    "name": "ipython",
    "version": 3
   },
   "file_extension": ".py",
   "mimetype": "text/x-python",
   "name": "python",
   "nbconvert_exporter": "python",
   "pygments_lexer": "ipython3",
   "version": "3.12.3"
  }
 },
 "nbformat": 4,
 "nbformat_minor": 5
}
