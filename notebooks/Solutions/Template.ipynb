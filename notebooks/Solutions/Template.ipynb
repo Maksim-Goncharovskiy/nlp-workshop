{
 "cells": [
  {
   "cell_type": "markdown",
   "id": "4a9daf35-4bf0-41d6-8c14-37f0a881a879",
   "metadata": {},
   "source": [
    "<center><h1>Шаблон оформления решения соревнования.</h1></center>"
   ]
  },
  {
   "cell_type": "code",
   "execution_count": null,
   "id": "de3d7fbd-eb97-4a11-a244-11d5825a2ad0",
   "metadata": {},
   "outputs": [],
   "source": [
    "import numpy as np\n",
    "import pandas as pd\n",
    "\n",
    "from sklearn.metrics import (\n",
    "    f1_score, \n",
    "    accuracy_score,\n",
    "    classification_report, \n",
    ")"
   ]
  },
  {
   "cell_type": "markdown",
   "id": "5accdfb4-ac0e-43e4-8700-7edf353b6bb6",
   "metadata": {},
   "source": [
    "# <center> 1. Подготовка обучающих данных </center>"
   ]
  },
  {
   "cell_type": "markdown",
   "id": "3ca18ac5-ff46-40f8-b3ec-35ba0f228d87",
   "metadata": {},
   "source": [
    "## 1.1. Получение данных"
   ]
  },
  {
   "cell_type": "code",
   "execution_count": null,
   "id": "7a861e52-fae1-4d5e-853c-17c0e3847dd2",
   "metadata": {},
   "outputs": [],
   "source": [
    "train_data = pd.read_csv(\"../../data/original/train.csv.csv\", index_col=0)\n",
    "assessment = train_data['assessment']\n",
    "\n",
    "text = pd.read_csv(\"../../data/processed/text_df.csv\", index_col=0)\n",
    "tags = pd.read_csv(\"../../data/processed/tags_df.csv\", index_col=0)\n",
    "targets = pd.read_csv(\"../../data/processed/target_df.csv\", index_col=0)"
   ]
  },
  {
   "cell_type": "code",
   "execution_count": null,
   "id": "54218827-4d0b-4063-8a15-b8603962efc0",
   "metadata": {},
   "outputs": [],
   "source": [
    "text = text.fillna(\"\")"
   ]
  },
  {
   "cell_type": "markdown",
   "id": "10cbba31-3c85-42e3-81f9-8e4096ce7b9a",
   "metadata": {},
   "source": [
    "## 1.2. Получение эмбеддингов текстов"
   ]
  },
  {
   "cell_type": "code",
   "execution_count": null,
   "id": "94a312d3-ae8c-4515-94c2-9c399e8cc975",
   "metadata": {},
   "outputs": [],
   "source": [
    "train_embeddings = ..."
   ]
  },
  {
   "cell_type": "code",
   "execution_count": null,
   "id": "9243d8fa-8787-451c-945b-93303c4adfea",
   "metadata": {},
   "outputs": [],
   "source": []
  },
  {
   "cell_type": "markdown",
   "id": "d8b16b0b-2d84-4d70-827a-f8439f9d981e",
   "metadata": {},
   "source": [
    "## 1.3. Формирование итоговых датасетов для обучения "
   ]
  },
  {
   "cell_type": "code",
   "execution_count": null,
   "id": "dd6c1dc6-1de6-4098-a8cd-6e18dee7bec1",
   "metadata": {},
   "outputs": [],
   "source": [
    "final_train_data_1 = pd.concat([pd.DataFrame(assessment.values), pd.DataFrame(train_embeddings.values)], axis=1).values\n",
    "final_train_data_2 = pd.concat([pd.DataFrame(assessment.values), pd.DataFrame(tags.values), pd.DataFrame(train_embeddings.values)], axis=1).values"
   ]
  },
  {
   "cell_type": "markdown",
   "id": "c47f9d5d-9cb7-4921-b062-c2303e535799",
   "metadata": {},
   "source": [
    "\n",
    "\n",
    "\n",
    "\n"
   ]
  },
  {
   "cell_type": "markdown",
   "id": "6658394a-b635-4d0e-b186-1f35a9477368",
   "metadata": {},
   "source": [
    "\n",
    "\n",
    "\n",
    "\n",
    "\n",
    "\n"
   ]
  },
  {
   "cell_type": "markdown",
   "id": "b1f53b54-24f4-4b15-8a1f-1577081cf69e",
   "metadata": {},
   "source": [
    "\n",
    "\n",
    "\n",
    "\n",
    "\n"
   ]
  },
  {
   "cell_type": "markdown",
   "id": "a5c7b4b6-ce54-4060-b3c2-60077dd49305",
   "metadata": {},
   "source": [
    "# <center> 2. Обучение моделей </center>"
   ]
  },
  {
   "cell_type": "code",
   "execution_count": null,
   "id": "7f3689aa-f0ad-4496-bd1c-43a5d3c433f0",
   "metadata": {},
   "outputs": [],
   "source": []
  },
  {
   "cell_type": "code",
   "execution_count": null,
   "id": "7b470d1a-a3b5-4a5c-9f1c-6a2207a799b8",
   "metadata": {},
   "outputs": [],
   "source": []
  },
  {
   "cell_type": "markdown",
   "id": "4b881772-35fb-4493-ac50-5b03b1a33339",
   "metadata": {},
   "source": [
    "# <center> 3. Подготовка тестовых данных </center> "
   ]
  },
  {
   "cell_type": "markdown",
   "id": "17aef3d9-cbc9-4b13-9a87-b3618cf795dc",
   "metadata": {},
   "source": [
    "## 3.1. Получение данных"
   ]
  },
  {
   "cell_type": "code",
   "execution_count": null,
   "id": "98f9b2ff-eb9f-46b5-b307-b85cba775f4c",
   "metadata": {},
   "outputs": [],
   "source": [
    "test_data = pd.read_csv(\"../../data/original/test.csv.csv\", index_col=0)\n",
    "test_assessment = test_data['assessment']\n",
    "\n",
    "test_data.head()"
   ]
  },
  {
   "cell_type": "markdown",
   "id": "db5f00db-186e-43ae-b381-e95af25918bd",
   "metadata": {},
   "source": [
    "## 3.2. Предобработка текстовых данных"
   ]
  },
  {
   "cell_type": "code",
   "execution_count": null,
   "id": "8767fdab-6c4e-45c3-9509-d030e8b5d4b8",
   "metadata": {},
   "outputs": [],
   "source": [
    "import re\n",
    "from bs4 import BeautifulSoup\n",
    "\n",
    "\n",
    "def preprocessor(text):\n",
    "    \n",
    "    text = BeautifulSoup(text, \"html.parser\").get_text() # Удаляем HTML\n",
    "    text = re.sub(r'http\\S+', '', text)  # Удаление ссылок\n",
    "    text = re.sub(r'\\d+', '', text)  # Удаление номеров\n",
    "    text = re.sub(r'\\s+', ' ', text) # удаление лишних пробелов\n",
    "    text = re.sub(r'[^a-zA-Zа-яА-Я0-9\\.,?!\\s]', '', text) # Удаление всех символов кроме значимых(буквы, пунктуация)\n",
    "    text = text.lower()\n",
    "    \n",
    "    return text"
   ]
  },
  {
   "cell_type": "code",
   "execution_count": null,
   "id": "23263684-3b13-479c-99a9-42940cd9821a",
   "metadata": {},
   "outputs": [],
   "source": [
    "test_text = pd.DataFrame(test_data['text'].values, columns=['text'])\n",
    "test_text = test_text.fillna(\"\")\n",
    "test_text['text'] = test_text['text'].apply(preprocessor)\n",
    "test_text.head()"
   ]
  },
  {
   "cell_type": "markdown",
   "id": "eb5f5539-3296-4459-a876-b79e651fbe09",
   "metadata": {},
   "source": [
    "## 3.3. Получение эмбеддингов текстов"
   ]
  },
  {
   "cell_type": "code",
   "execution_count": null,
   "id": "9498ac6f-93be-44a3-9114-86554cec8e02",
   "metadata": {},
   "outputs": [],
   "source": [
    "test_embeddings = ..."
   ]
  },
  {
   "cell_type": "markdown",
   "id": "e9f711d3-3bcd-4761-ad3a-71f6791f9ef2",
   "metadata": {},
   "source": [
    "## 3.4. Работа с признаком тегов"
   ]
  },
  {
   "cell_type": "code",
   "execution_count": null,
   "id": "275d02b7-630b-4eb8-b416-50a5cae1ac51",
   "metadata": {},
   "outputs": [],
   "source": [
    "test_data[test_data['tags'].isna()] = test_data[test_data['tags'].isna()].fillna('')\n",
    "\n",
    "tags_set = {'ASSORTMENT',\n",
    " 'CATALOG_NAVIGATION',\n",
    " 'DELIVERY',\n",
    " 'PAYMENT',\n",
    " 'PRICE',\n",
    " 'PRODUCTS_QUALITY',\n",
    " 'PROMOTIONS',\n",
    " 'SUPPORT'}\n",
    "\n",
    "def string_to_set(string):\n",
    "  elements = string.strip('{}').split(',')\n",
    "  set_result = set(element.strip() for element in elements)\n",
    "  return set_result\n",
    "\n",
    "\n",
    "def make_tags_df(df, tags_set):\n",
    "    tags_list = list(tags_set)\n",
    "    tags_list = sorted(tags_list)\n",
    "    new_df = pd.DataFrame(columns=tags_list)\n",
    "\n",
    "    for _, row in df.iterrows():\n",
    "        tags = string_to_set(row['tags'])\n",
    "        for tag in tags_list:\n",
    "            if tag in tags:\n",
    "                new_df.loc[row.name, tag] = 1\n",
    "            else:\n",
    "                new_df.loc[row.name, tag] = 0\n",
    "    return new_df\n",
    "\n",
    "\n",
    "test_tags = pd.DataFrame(make_tags_df(test_data, tags_set).values, columns=sorted(list(tags_set)))\n",
    "test_tags.head()"
   ]
  },
  {
   "cell_type": "markdown",
   "id": "d4501f55-65c7-4750-9c71-39cf98aeb805",
   "metadata": {},
   "source": [
    "## 3.5. Итоговые тестовые данные и предсказания "
   ]
  },
  {
   "cell_type": "code",
   "execution_count": null,
   "id": "3393c86e-a7c7-4ed0-8b19-fcbfd80b3ee6",
   "metadata": {},
   "outputs": [],
   "source": [
    "final_test_data_1 = pd.concat([pd.DataFrame(test_assessment.values), pd.DataFrame(test_embeddings)], axis=1).values\n",
    "final_test_data_2 = pd.concat([pd.DataFrame(test_assessment.values), pd.DataFrame(test_tags.values), pd.DataFrame(test_embeddings)], axis=1).values"
   ]
  },
  {
   "cell_type": "code",
   "execution_count": null,
   "id": "e272a50c-5f23-46f4-ae09-a7d281862716",
   "metadata": {},
   "outputs": [],
   "source": [
    "prediction_1 = model_1.predict(final_test_data_1)\n",
    "prediction_2 = model_2.predict(final_test_data_2)"
   ]
  },
  {
   "cell_type": "code",
   "execution_count": null,
   "id": "ca26df1c-5031-49e6-b014-fdad98319a97",
   "metadata": {},
   "outputs": [],
   "source": [
    "def get_class_labels(array):\n",
    "    \n",
    "  class_labels = []\n",
    "  for i in range(array.shape[0]):\n",
    "    classes = np.where(array[i] == 1)[0]\n",
    "    if len(classes) > 0:\n",
    "      class_labels.append(\" \".join(str(x) for x in classes))\n",
    "    else:\n",
    "      class_labels.append(\"\")\n",
    "\n",
    "\n",
    "  df = pd.DataFrame({\"class_labels\": class_labels})\n",
    "\n",
    "  return df\n",
    "\n",
    "answer_1 = get_class_labels(prediction_1)\n",
    "answer_2 = get_class_labels(prediction_2)"
   ]
  },
  {
   "cell_type": "code",
   "execution_count": null,
   "id": "2882a2bf-8e7d-4996-98e7-16228a342b58",
   "metadata": {},
   "outputs": [],
   "source": [
    "answer_1 = pd.DataFrame(answer_1.values, index=test_data['index'].values, columns=['target'])\n",
    "answer_1.to_csv('../../results/submissions/n-1.csv')"
   ]
  },
  {
   "cell_type": "code",
   "execution_count": null,
   "id": "06f7d143-d279-4232-94b3-40a9c128d8c2",
   "metadata": {},
   "outputs": [],
   "source": [
    "answer_2 = pd.DataFrame(answer_2.values, index=test_data['index'].values, columns=['target'])\n",
    "answer_2.to_csv('../../results/submissions/n-2.csv')"
   ]
  }
 ],
 "metadata": {
  "kernelspec": {
   "display_name": "Python 3 (ipykernel)",
   "language": "python",
   "name": "python3"
  },
  "language_info": {
   "codemirror_mode": {
    "name": "ipython",
    "version": 3
   },
   "file_extension": ".py",
   "mimetype": "text/x-python",
   "name": "python",
   "nbconvert_exporter": "python",
   "pygments_lexer": "ipython3",
   "version": "3.12.3"
  }
 },
 "nbformat": 4,
 "nbformat_minor": 5
}
