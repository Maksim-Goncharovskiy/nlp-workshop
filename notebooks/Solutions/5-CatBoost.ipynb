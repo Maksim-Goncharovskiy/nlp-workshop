{
 "cells": [
  {
   "cell_type": "markdown",
   "id": "4a9daf35-4bf0-41d6-8c14-37f0a881a879",
   "metadata": {},
   "source": [
    "<center><h1>Шаблон оформления решения соревнования.</h1></center>"
   ]
  },
  {
   "cell_type": "code",
   "execution_count": 1,
   "id": "de3d7fbd-eb97-4a11-a244-11d5825a2ad0",
   "metadata": {},
   "outputs": [],
   "source": [
    "import numpy as np\n",
    "import pandas as pd\n",
    "\n",
    "from sklearn.metrics import (\n",
    "    f1_score, \n",
    "    accuracy_score,\n",
    "    classification_report, \n",
    ")"
   ]
  },
  {
   "cell_type": "markdown",
   "id": "5accdfb4-ac0e-43e4-8700-7edf353b6bb6",
   "metadata": {},
   "source": [
    "# <center> 1. Подготовка обучающих данных </center>"
   ]
  },
  {
   "cell_type": "markdown",
   "id": "3ca18ac5-ff46-40f8-b3ec-35ba0f228d87",
   "metadata": {},
   "source": [
    "## 1.1. Получение данных"
   ]
  },
  {
   "cell_type": "code",
   "execution_count": 2,
   "id": "7a861e52-fae1-4d5e-853c-17c0e3847dd2",
   "metadata": {},
   "outputs": [],
   "source": [
    "train_data = pd.read_csv(\"../../data/original/train.csv.csv\", index_col=0)\n",
    "assessment = train_data['assessment']\n",
    "\n",
    "text = pd.read_csv(\"../../data/processed/text_df.csv\", index_col=0)\n",
    "tags = pd.read_csv(\"../../data/processed/tags_df.csv\", index_col=0)\n",
    "targets = pd.read_csv(\"../../data/processed/target_df.csv\", index_col=0)"
   ]
  },
  {
   "cell_type": "code",
   "execution_count": 3,
   "id": "54218827-4d0b-4063-8a15-b8603962efc0",
   "metadata": {},
   "outputs": [],
   "source": [
    "text = text.fillna(\"\")"
   ]
  },
  {
   "cell_type": "markdown",
   "id": "10cbba31-3c85-42e3-81f9-8e4096ce7b9a",
   "metadata": {},
   "source": [
    "## 1.2. Получение эмбеддингов текстов"
   ]
  },
  {
   "cell_type": "code",
   "execution_count": 4,
   "id": "94a312d3-ae8c-4515-94c2-9c399e8cc975",
   "metadata": {},
   "outputs": [],
   "source": [
    "from sklearn.feature_extraction.text import TfidfVectorizer\n",
    "\n",
    "tfidf = TfidfVectorizer(max_features=8000)\n",
    "train_embeddings = tfidf.fit_transform(text['text']).toarray()"
   ]
  },
  {
   "cell_type": "markdown",
   "id": "d8b16b0b-2d84-4d70-827a-f8439f9d981e",
   "metadata": {},
   "source": [
    "## 1.3. Формирование итоговых датасетов для обучения "
   ]
  },
  {
   "cell_type": "code",
   "execution_count": 5,
   "id": "dd6c1dc6-1de6-4098-a8cd-6e18dee7bec1",
   "metadata": {},
   "outputs": [],
   "source": [
    "final_train_data_1 = pd.concat([pd.DataFrame(assessment.values), pd.DataFrame(train_embeddings)], axis=1).values\n",
    "final_train_data_2 = pd.concat([pd.DataFrame(assessment.values), pd.DataFrame(tags.values), pd.DataFrame(train_embeddings)], axis=1).values"
   ]
  },
  {
   "cell_type": "markdown",
   "id": "c47f9d5d-9cb7-4921-b062-c2303e535799",
   "metadata": {},
   "source": [
    "\n",
    "\n",
    "\n",
    "\n"
   ]
  },
  {
   "cell_type": "markdown",
   "id": "6658394a-b635-4d0e-b186-1f35a9477368",
   "metadata": {},
   "source": [
    "\n",
    "\n",
    "\n",
    "\n",
    "\n",
    "\n"
   ]
  },
  {
   "cell_type": "markdown",
   "id": "b1f53b54-24f4-4b15-8a1f-1577081cf69e",
   "metadata": {},
   "source": [
    "\n",
    "\n",
    "\n",
    "\n",
    "\n"
   ]
  },
  {
   "cell_type": "markdown",
   "id": "a5c7b4b6-ce54-4060-b3c2-60077dd49305",
   "metadata": {},
   "source": [
    "# <center> 2. Обучение моделей </center>"
   ]
  },
  {
   "cell_type": "code",
   "execution_count": 7,
   "id": "980923bc-44e1-4664-b172-e767ece56d6c",
   "metadata": {},
   "outputs": [],
   "source": [
    "from sklearn.multioutput import MultiOutputClassifier\n",
    "from catboost import CatBoostClassifier"
   ]
  },
  {
   "cell_type": "code",
   "execution_count": 26,
   "id": "7f3689aa-f0ad-4496-bd1c-43a5d3c433f0",
   "metadata": {},
   "outputs": [],
   "source": [
    "model = MultiOutputClassifier(\n",
    "    CatBoostClassifier(\n",
    "        eval_metric=\"Accuracy\",\n",
    "        iterations=1000,\n",
    "        learning_rate=0.1,\n",
    "        depth=10,\n",
    "        l2_leaf_reg=3,\n",
    "        verbose=False\n",
    "    )\n",
    ")"
   ]
  },
  {
   "cell_type": "code",
   "execution_count": null,
   "id": "7b470d1a-a3b5-4a5c-9f1c-6a2207a799b8",
   "metadata": {},
   "outputs": [],
   "source": [
    "model.fit(final_train_data_1, targets.values)"
   ]
  },
  {
   "cell_type": "markdown",
   "id": "4b881772-35fb-4493-ac50-5b03b1a33339",
   "metadata": {},
   "source": [
    "# <center> 3. Подготовка тестовых данных </center> "
   ]
  },
  {
   "cell_type": "markdown",
   "id": "17aef3d9-cbc9-4b13-9a87-b3618cf795dc",
   "metadata": {},
   "source": [
    "## 3.1. Получение данных"
   ]
  },
  {
   "cell_type": "code",
   "execution_count": 15,
   "id": "98f9b2ff-eb9f-46b5-b307-b85cba775f4c",
   "metadata": {},
   "outputs": [
    {
     "data": {
      "text/html": [
       "<div>\n",
       "<style scoped>\n",
       "    .dataframe tbody tr th:only-of-type {\n",
       "        vertical-align: middle;\n",
       "    }\n",
       "\n",
       "    .dataframe tbody tr th {\n",
       "        vertical-align: top;\n",
       "    }\n",
       "\n",
       "    .dataframe thead th {\n",
       "        text-align: right;\n",
       "    }\n",
       "</style>\n",
       "<table border=\"1\" class=\"dataframe\">\n",
       "  <thead>\n",
       "    <tr style=\"text-align: right;\">\n",
       "      <th></th>\n",
       "      <th>index</th>\n",
       "      <th>assessment</th>\n",
       "      <th>tags</th>\n",
       "      <th>text</th>\n",
       "    </tr>\n",
       "  </thead>\n",
       "  <tbody>\n",
       "    <tr>\n",
       "      <th>1</th>\n",
       "      <td>3135</td>\n",
       "      <td>3.0</td>\n",
       "      <td>{DELIVERY}</td>\n",
       "      <td>Последнее время думаю плохо, сроки доставки да...</td>\n",
       "    </tr>\n",
       "    <tr>\n",
       "      <th>3</th>\n",
       "      <td>4655</td>\n",
       "      <td>2.0</td>\n",
       "      <td>{PRICE,DELIVERY,ASSORTMENT}</td>\n",
       "      <td>Цены намного выше магазинных но радуют акции</td>\n",
       "    </tr>\n",
       "    <tr>\n",
       "      <th>5</th>\n",
       "      <td>22118</td>\n",
       "      <td>2.0</td>\n",
       "      <td>{CATALOG_NAVIGATION,ASSORTMENT,DELIVERY}</td>\n",
       "      <td>Доставка за [NUM] минут, заказ даже не начали ...</td>\n",
       "    </tr>\n",
       "    <tr>\n",
       "      <th>7</th>\n",
       "      <td>23511</td>\n",
       "      <td>0.0</td>\n",
       "      <td>{DELIVERY}</td>\n",
       "      <td>Ужасно долгая доставка</td>\n",
       "    </tr>\n",
       "    <tr>\n",
       "      <th>8</th>\n",
       "      <td>45</td>\n",
       "      <td>6.0</td>\n",
       "      <td>{ASSORTMENT,PROMOTIONS}</td>\n",
       "      <td>Добрый вечер! Вы большие молодцы. Меня всё уст...</td>\n",
       "    </tr>\n",
       "  </tbody>\n",
       "</table>\n",
       "</div>"
      ],
      "text/plain": [
       "   index  assessment                                      tags  \\\n",
       "1   3135         3.0                                {DELIVERY}   \n",
       "3   4655         2.0               {PRICE,DELIVERY,ASSORTMENT}   \n",
       "5  22118         2.0  {CATALOG_NAVIGATION,ASSORTMENT,DELIVERY}   \n",
       "7  23511         0.0                                {DELIVERY}   \n",
       "8     45         6.0                   {ASSORTMENT,PROMOTIONS}   \n",
       "\n",
       "                                                text  \n",
       "1  Последнее время думаю плохо, сроки доставки да...  \n",
       "3       Цены намного выше магазинных но радуют акции  \n",
       "5  Доставка за [NUM] минут, заказ даже не начали ...  \n",
       "7                             Ужасно долгая доставка  \n",
       "8  Добрый вечер! Вы большие молодцы. Меня всё уст...  "
      ]
     },
     "execution_count": 15,
     "metadata": {},
     "output_type": "execute_result"
    }
   ],
   "source": [
    "test_data = pd.read_csv(\"../../data/original/test.csv.csv\", index_col=0)\n",
    "test_assessment = test_data['assessment']\n",
    "\n",
    "test_data.head()"
   ]
  },
  {
   "cell_type": "markdown",
   "id": "db5f00db-186e-43ae-b381-e95af25918bd",
   "metadata": {},
   "source": [
    "## 3.2. Предобработка текстовых данных"
   ]
  },
  {
   "cell_type": "code",
   "execution_count": 16,
   "id": "8767fdab-6c4e-45c3-9509-d030e8b5d4b8",
   "metadata": {},
   "outputs": [],
   "source": [
    "import re\n",
    "from bs4 import BeautifulSoup\n",
    "\n",
    "\n",
    "def preprocessor(text):\n",
    "    \n",
    "    text = BeautifulSoup(text, \"html.parser\").get_text() # Удаляем HTML\n",
    "    text = re.sub(r'http\\S+', '', text)  # Удаление ссылок\n",
    "    text = re.sub(r'\\d+', '', text)  # Удаление номеров\n",
    "    text = re.sub(r'\\s+', ' ', text) # удаление лишних пробелов\n",
    "    text = re.sub(r'[^a-zA-Zа-яА-Я0-9\\.,?!\\s]', '', text) # Удаление всех символов кроме значимых(буквы, пунктуация)\n",
    "    text = text.lower()\n",
    "    \n",
    "    return text"
   ]
  },
  {
   "cell_type": "code",
   "execution_count": 17,
   "id": "23263684-3b13-479c-99a9-42940cd9821a",
   "metadata": {},
   "outputs": [
    {
     "name": "stderr",
     "output_type": "stream",
     "text": [
      "C:\\Users\\Максат\\AppData\\Local\\Temp\\ipykernel_14032\\731392797.py:7: MarkupResemblesLocatorWarning: The input looks more like a filename than markup. You may want to open this file and pass the filehandle into Beautiful Soup.\n",
      "  text = BeautifulSoup(text, \"html.parser\").get_text() # Удаляем HTML\n"
     ]
    },
    {
     "data": {
      "text/html": [
       "<div>\n",
       "<style scoped>\n",
       "    .dataframe tbody tr th:only-of-type {\n",
       "        vertical-align: middle;\n",
       "    }\n",
       "\n",
       "    .dataframe tbody tr th {\n",
       "        vertical-align: top;\n",
       "    }\n",
       "\n",
       "    .dataframe thead th {\n",
       "        text-align: right;\n",
       "    }\n",
       "</style>\n",
       "<table border=\"1\" class=\"dataframe\">\n",
       "  <thead>\n",
       "    <tr style=\"text-align: right;\">\n",
       "      <th></th>\n",
       "      <th>text</th>\n",
       "    </tr>\n",
       "  </thead>\n",
       "  <tbody>\n",
       "    <tr>\n",
       "      <th>0</th>\n",
       "      <td>последнее время думаю плохо, сроки доставки да...</td>\n",
       "    </tr>\n",
       "    <tr>\n",
       "      <th>1</th>\n",
       "      <td>цены намного выше магазинных но радуют акции</td>\n",
       "    </tr>\n",
       "    <tr>\n",
       "      <th>2</th>\n",
       "      <td>доставка за num минут, заказ даже не начали со...</td>\n",
       "    </tr>\n",
       "    <tr>\n",
       "      <th>3</th>\n",
       "      <td>ужасно долгая доставка</td>\n",
       "    </tr>\n",
       "    <tr>\n",
       "      <th>4</th>\n",
       "      <td>добрый вечер! вы большие молодцы. меня вс устр...</td>\n",
       "    </tr>\n",
       "  </tbody>\n",
       "</table>\n",
       "</div>"
      ],
      "text/plain": [
       "                                                text\n",
       "0  последнее время думаю плохо, сроки доставки да...\n",
       "1       цены намного выше магазинных но радуют акции\n",
       "2  доставка за num минут, заказ даже не начали со...\n",
       "3                             ужасно долгая доставка\n",
       "4  добрый вечер! вы большие молодцы. меня вс устр..."
      ]
     },
     "execution_count": 17,
     "metadata": {},
     "output_type": "execute_result"
    }
   ],
   "source": [
    "test_text = pd.DataFrame(test_data['text'].values, columns=['text'])\n",
    "test_text = test_text.fillna(\"\")\n",
    "test_text['text'] = test_text['text'].apply(preprocessor)\n",
    "test_text.head()"
   ]
  },
  {
   "cell_type": "markdown",
   "id": "eb5f5539-3296-4459-a876-b79e651fbe09",
   "metadata": {},
   "source": [
    "## 3.3. Получение эмбеддингов текстов"
   ]
  },
  {
   "cell_type": "code",
   "execution_count": 18,
   "id": "9498ac6f-93be-44a3-9114-86554cec8e02",
   "metadata": {},
   "outputs": [],
   "source": [
    "test_embeddings = tfidf.transform(test_text['text']).toarray()"
   ]
  },
  {
   "cell_type": "markdown",
   "id": "e9f711d3-3bcd-4761-ad3a-71f6791f9ef2",
   "metadata": {},
   "source": [
    "## 3.4. Работа с признаком тегов"
   ]
  },
  {
   "cell_type": "code",
   "execution_count": 19,
   "id": "275d02b7-630b-4eb8-b416-50a5cae1ac51",
   "metadata": {},
   "outputs": [
    {
     "data": {
      "text/html": [
       "<div>\n",
       "<style scoped>\n",
       "    .dataframe tbody tr th:only-of-type {\n",
       "        vertical-align: middle;\n",
       "    }\n",
       "\n",
       "    .dataframe tbody tr th {\n",
       "        vertical-align: top;\n",
       "    }\n",
       "\n",
       "    .dataframe thead th {\n",
       "        text-align: right;\n",
       "    }\n",
       "</style>\n",
       "<table border=\"1\" class=\"dataframe\">\n",
       "  <thead>\n",
       "    <tr style=\"text-align: right;\">\n",
       "      <th></th>\n",
       "      <th>ASSORTMENT</th>\n",
       "      <th>CATALOG_NAVIGATION</th>\n",
       "      <th>DELIVERY</th>\n",
       "      <th>PAYMENT</th>\n",
       "      <th>PRICE</th>\n",
       "      <th>PRODUCTS_QUALITY</th>\n",
       "      <th>PROMOTIONS</th>\n",
       "      <th>SUPPORT</th>\n",
       "    </tr>\n",
       "  </thead>\n",
       "  <tbody>\n",
       "    <tr>\n",
       "      <th>0</th>\n",
       "      <td>0</td>\n",
       "      <td>0</td>\n",
       "      <td>1</td>\n",
       "      <td>0</td>\n",
       "      <td>0</td>\n",
       "      <td>0</td>\n",
       "      <td>0</td>\n",
       "      <td>0</td>\n",
       "    </tr>\n",
       "    <tr>\n",
       "      <th>1</th>\n",
       "      <td>1</td>\n",
       "      <td>0</td>\n",
       "      <td>1</td>\n",
       "      <td>0</td>\n",
       "      <td>1</td>\n",
       "      <td>0</td>\n",
       "      <td>0</td>\n",
       "      <td>0</td>\n",
       "    </tr>\n",
       "    <tr>\n",
       "      <th>2</th>\n",
       "      <td>1</td>\n",
       "      <td>1</td>\n",
       "      <td>1</td>\n",
       "      <td>0</td>\n",
       "      <td>0</td>\n",
       "      <td>0</td>\n",
       "      <td>0</td>\n",
       "      <td>0</td>\n",
       "    </tr>\n",
       "    <tr>\n",
       "      <th>3</th>\n",
       "      <td>0</td>\n",
       "      <td>0</td>\n",
       "      <td>1</td>\n",
       "      <td>0</td>\n",
       "      <td>0</td>\n",
       "      <td>0</td>\n",
       "      <td>0</td>\n",
       "      <td>0</td>\n",
       "    </tr>\n",
       "    <tr>\n",
       "      <th>4</th>\n",
       "      <td>1</td>\n",
       "      <td>0</td>\n",
       "      <td>0</td>\n",
       "      <td>0</td>\n",
       "      <td>0</td>\n",
       "      <td>0</td>\n",
       "      <td>1</td>\n",
       "      <td>0</td>\n",
       "    </tr>\n",
       "  </tbody>\n",
       "</table>\n",
       "</div>"
      ],
      "text/plain": [
       "  ASSORTMENT CATALOG_NAVIGATION DELIVERY PAYMENT PRICE PRODUCTS_QUALITY  \\\n",
       "0          0                  0        1       0     0                0   \n",
       "1          1                  0        1       0     1                0   \n",
       "2          1                  1        1       0     0                0   \n",
       "3          0                  0        1       0     0                0   \n",
       "4          1                  0        0       0     0                0   \n",
       "\n",
       "  PROMOTIONS SUPPORT  \n",
       "0          0       0  \n",
       "1          0       0  \n",
       "2          0       0  \n",
       "3          0       0  \n",
       "4          1       0  "
      ]
     },
     "execution_count": 19,
     "metadata": {},
     "output_type": "execute_result"
    }
   ],
   "source": [
    "test_data[test_data['tags'].isna()] = test_data[test_data['tags'].isna()].fillna('')\n",
    "\n",
    "tags_set = {'ASSORTMENT',\n",
    " 'CATALOG_NAVIGATION',\n",
    " 'DELIVERY',\n",
    " 'PAYMENT',\n",
    " 'PRICE',\n",
    " 'PRODUCTS_QUALITY',\n",
    " 'PROMOTIONS',\n",
    " 'SUPPORT'}\n",
    "\n",
    "def string_to_set(string):\n",
    "  elements = string.strip('{}').split(',')\n",
    "  set_result = set(element.strip() for element in elements)\n",
    "  return set_result\n",
    "\n",
    "\n",
    "def make_tags_df(df, tags_set):\n",
    "    tags_list = list(tags_set)\n",
    "    tags_list = sorted(tags_list)\n",
    "    new_df = pd.DataFrame(columns=tags_list)\n",
    "\n",
    "    for _, row in df.iterrows():\n",
    "        tags = string_to_set(row['tags'])\n",
    "        for tag in tags_list:\n",
    "            if tag in tags:\n",
    "                new_df.loc[row.name, tag] = 1\n",
    "            else:\n",
    "                new_df.loc[row.name, tag] = 0\n",
    "    return new_df\n",
    "\n",
    "\n",
    "test_tags = pd.DataFrame(make_tags_df(test_data, tags_set).values, columns=sorted(list(tags_set)))\n",
    "test_tags.head()"
   ]
  },
  {
   "cell_type": "markdown",
   "id": "d4501f55-65c7-4750-9c71-39cf98aeb805",
   "metadata": {},
   "source": [
    "## 3.5. Итоговые тестовые данные и предсказания "
   ]
  },
  {
   "cell_type": "code",
   "execution_count": 20,
   "id": "3393c86e-a7c7-4ed0-8b19-fcbfd80b3ee6",
   "metadata": {},
   "outputs": [],
   "source": [
    "final_test_data_1 = pd.concat([pd.DataFrame(test_assessment.values), pd.DataFrame(test_embeddings)], axis=1).values\n",
    "final_test_data_2 = pd.concat([pd.DataFrame(test_assessment.values), pd.DataFrame(test_tags.values), pd.DataFrame(test_embeddings)], axis=1).values"
   ]
  },
  {
   "cell_type": "code",
   "execution_count": null,
   "id": "e272a50c-5f23-46f4-ae09-a7d281862716",
   "metadata": {},
   "outputs": [],
   "source": [
    "prediction = model.predict(final_test_data_1)"
   ]
  },
  {
   "cell_type": "code",
   "execution_count": null,
   "id": "ca26df1c-5031-49e6-b014-fdad98319a97",
   "metadata": {},
   "outputs": [],
   "source": [
    "def get_class_labels(array):\n",
    "    \n",
    "  class_labels = []\n",
    "  for i in range(array.shape[0]):\n",
    "    classes = np.where(array[i] == 1)[0]\n",
    "    if len(classes) > 0:\n",
    "      class_labels.append(\" \".join(str(x) for x in classes))\n",
    "    else:\n",
    "      class_labels.append(\"\")\n",
    "\n",
    "\n",
    "  df = pd.DataFrame({\"class_labels\": class_labels})\n",
    "\n",
    "  return df\n",
    "\n",
    "answer = get_class_labels(prediction)"
   ]
  },
  {
   "cell_type": "code",
   "execution_count": null,
   "id": "2882a2bf-8e7d-4996-98e7-16228a342b58",
   "metadata": {},
   "outputs": [],
   "source": [
    "answer = pd.DataFrame(answer.values, index=test_data['index'].values, columns=['target'])\n",
    "answer.to_csv('../../results/submissions/5-1.csv')"
   ]
  }
 ],
 "metadata": {
  "kernelspec": {
   "display_name": "Python 3 (ipykernel)",
   "language": "python",
   "name": "python3"
  },
  "language_info": {
   "codemirror_mode": {
    "name": "ipython",
    "version": 3
   },
   "file_extension": ".py",
   "mimetype": "text/x-python",
   "name": "python",
   "nbconvert_exporter": "python",
   "pygments_lexer": "ipython3",
   "version": "3.12.3"
  }
 },
 "nbformat": 4,
 "nbformat_minor": 5
}
