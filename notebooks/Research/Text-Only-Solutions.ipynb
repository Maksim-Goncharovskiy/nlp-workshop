{
 "cells": [
  {
   "cell_type": "markdown",
   "id": "a2379db6-1ebc-4149-82c0-4a65c68565a0",
   "metadata": {},
   "source": [
    "<h1 style=\"text-align: center;font-size: 30px\">Классификация отзывов только на основе эмбеддингов текстов</h1>"
   ]
  },
  {
   "cell_type": "markdown",
   "id": "63e9cfbe-d2aa-4a65-b45a-5626ae3df16e",
   "metadata": {},
   "source": [
    "# Содержание\n",
    "### 0. [Импорт и проверка данных](#chapter0)\n",
    "### 1. [Получение всех возможных эмбеддингов](#chapter1)\n",
    "#### 1.1. [TF-IDF](#chapter1.1)\n",
    "#### 1.2. [Word2Vec](#chapter1.2)\n",
    "### 2. [Пробуем разные модели](#chapter2)\n",
    "#### 2.1. [Логистическая регрессия](#chapter2.1)\n",
    "#### 2.2. [Наивный Байесовский классификатор](#chapter2.2)\n",
    "#### 2.3. [Дерево решений](#chapter2.3)\n",
    "#### 2.4. [SVM](#chapter2.4)"
   ]
  },
  {
   "cell_type": "markdown",
   "id": "c85a363f-aff5-4445-a1dd-5ac5c76d27e8",
   "metadata": {},
   "source": [
    "\n",
    "\n",
    "\n"
   ]
  },
  {
   "cell_type": "markdown",
   "id": "3add5c3d-f751-4cab-b4a8-360cbf835479",
   "metadata": {},
   "source": [
    "<center id=\"chapter1\"><h1 style=\"font-size: 24px\"> 0. Импорт данных. </h1></center>"
   ]
  },
  {
   "cell_type": "code",
   "execution_count": 1,
   "id": "f15273b1-6045-42f4-9e14-5bbda8471c2f",
   "metadata": {},
   "outputs": [],
   "source": [
    "import numpy as np\n",
    "import pandas as pd"
   ]
  },
  {
   "cell_type": "code",
   "execution_count": 2,
   "id": "8dcee2b6-cb87-49a1-aa78-2315f0878e4b",
   "metadata": {},
   "outputs": [],
   "source": [
    "from sklearn.metrics import (\n",
    "    f1_score, \n",
    "    accuracy_score,\n",
    "    classification_report, \n",
    ")"
   ]
  },
  {
   "cell_type": "code",
   "execution_count": 3,
   "id": "7f9907c6-0aca-4903-92b8-1c6b99ffef5c",
   "metadata": {},
   "outputs": [],
   "source": [
    "X_train_df = pd.read_csv(\"../../data/fully-cleaned/text_train_cleaned.csv\", index_col=0)\n",
    "y_train_df = pd.read_csv(\"../../data/processed/train/target_train_df.csv\", index_col=0)\n",
    "\n",
    "X_val_df = pd.read_csv(\"../../data/fully-cleaned/text_val_cleaned.csv\", index_col=0)\n",
    "y_val_df = pd.read_csv(\"../../data/processed/val/target_val_df.csv\", index_col=0)"
   ]
  },
  {
   "cell_type": "code",
   "execution_count": 4,
   "id": "0c7afd2f-e1ff-4c48-a684-38ffa2cea501",
   "metadata": {},
   "outputs": [],
   "source": [
    "X_train_df = X_train_df.fillna('')\n",
    "X_val_df = X_val_df.fillna('')"
   ]
  },
  {
   "cell_type": "code",
   "execution_count": 5,
   "id": "f87506c2-dc9c-4475-8342-7af4e48de878",
   "metadata": {},
   "outputs": [
    {
     "name": "stdout",
     "output_type": "stream",
     "text": [
      "<class 'pandas.core.frame.DataFrame'>\n",
      "Index: 4161 entries, 0 to 4160\n",
      "Data columns (total 1 columns):\n",
      " #   Column  Non-Null Count  Dtype \n",
      "---  ------  --------------  ----- \n",
      " 0   text    4161 non-null   object\n",
      "dtypes: object(1)\n",
      "memory usage: 65.0+ KB\n"
     ]
    },
    {
     "data": {
      "text/plain": [
       "None"
      ]
     },
     "metadata": {},
     "output_type": "display_data"
    },
    {
     "name": "stdout",
     "output_type": "stream",
     "text": [
      "<class 'pandas.core.frame.DataFrame'>\n",
      "Index: 462 entries, 4161 to 4622\n",
      "Data columns (total 1 columns):\n",
      " #   Column  Non-Null Count  Dtype \n",
      "---  ------  --------------  ----- \n",
      " 0   text    462 non-null    object\n",
      "dtypes: object(1)\n",
      "memory usage: 7.2+ KB\n"
     ]
    },
    {
     "data": {
      "text/plain": [
       "None"
      ]
     },
     "metadata": {},
     "output_type": "display_data"
    }
   ],
   "source": [
    "display(X_train_df.info())\n",
    "display(X_val_df.info())"
   ]
  },
  {
   "cell_type": "code",
   "execution_count": 6,
   "id": "2ad24510-f1d1-4f9c-8269-6189628a9166",
   "metadata": {},
   "outputs": [],
   "source": [
    "X_train = X_train_df['text']\n",
    "y_train = y_train_df.values\n",
    "\n",
    "X_val = X_val_df['text']\n",
    "y_val = y_val_df.values"
   ]
  },
  {
   "cell_type": "markdown",
   "id": "2e60f01e-89ac-43d2-af92-b01e730f1cf5",
   "metadata": {},
   "source": [
    "\n",
    "\n",
    "\n"
   ]
  },
  {
   "cell_type": "markdown",
   "id": "87323f62-dffd-4f31-a3d5-25943adf6caa",
   "metadata": {},
   "source": [
    "\n",
    "\n",
    "\n",
    "\n",
    "\n"
   ]
  },
  {
   "cell_type": "markdown",
   "id": "1a2fcf9e-4101-4128-91e3-53396e03d5fa",
   "metadata": {},
   "source": [
    "<center id=\"chapter1\"><h1 style=\"font-size: 24px\"> 1. Получение разных эмбеддингов. </h1></center>"
   ]
  },
  {
   "cell_type": "markdown",
   "id": "37689e30-4bb9-47a9-bb01-095cf2ed673d",
   "metadata": {},
   "source": [
    "## 1.1. TF-IDF <a id=\"chapter1.1\"></a>"
   ]
  },
  {
   "cell_type": "code",
   "execution_count": 7,
   "id": "4f4cc665-67bc-427f-9bd4-0d1ac9dbe1ca",
   "metadata": {},
   "outputs": [],
   "source": [
    "from sklearn.feature_extraction.text import TfidfVectorizer"
   ]
  },
  {
   "cell_type": "code",
   "execution_count": 8,
   "id": "ba956b57-3650-4e7f-8bf0-f152c36d7fa7",
   "metadata": {},
   "outputs": [],
   "source": [
    "tfidf_10000 = TfidfVectorizer(max_features=10000)\n",
    "tfidf_8000 = TfidfVectorizer(max_features=8000)\n",
    "tfidf_5000 = TfidfVectorizer(max_features=5000)\n",
    "tfidf_2500 = TfidfVectorizer(max_features=2500)"
   ]
  },
  {
   "cell_type": "code",
   "execution_count": 10,
   "id": "98016298-4660-4eb0-832f-f88b69b76cb7",
   "metadata": {},
   "outputs": [],
   "source": [
    "X_train_tfidf_10000 = tfidf_10000.fit_transform(X_train).toarray()\n",
    "X_val_tfidf_10000 = tfidf_10000.transform(X_val).toarray()\n",
    "\n",
    "X_train_tfidf_8000 = tfidf_8000.fit_transform(X_train).toarray()\n",
    "X_val_tfidf_8000 = tfidf_8000.transform(X_val).toarray()\n",
    "\n",
    "X_train_tfidf_5000 = tfidf_5000.fit_transform(X_train).toarray()\n",
    "X_val_tfidf_5000 = tfidf_5000.transform(X_val).toarray()\n",
    "\n",
    "X_train_tfidf_2500 = tfidf_2500.fit_transform(X_train).toarray()\n",
    "X_val_tfidf_2500 = tfidf_2500.transform(X_val).toarray()"
   ]
  },
  {
   "cell_type": "code",
   "execution_count": 11,
   "id": "1e749dbe-f269-4700-814f-8ed1fecf92af",
   "metadata": {},
   "outputs": [],
   "source": [
    "def try_model_with_tfidf(model, model_name: str = \"\"):\n",
    "    \n",
    "    global X_train_tfidf_10000, X_val_tfidf_10000\n",
    "    global X_train_tfidf_8000, X_val_tfidf_8000\n",
    "    global X_train_tfidf_5000, X_val_tfidf_5000\n",
    "    global X_train_tfidf_2500, X_val_tfidf_2500\n",
    "    global y_train, y_val\n",
    "\n",
    "    print(f\"-----------------Результат для {model_name} + tfidf_10000-----------------\")\n",
    "    model.fit(X_train_tfidf_10000, y_train)\n",
    "    train_prediction = model.predict(X_train_tfidf_10000)\n",
    "    val_prediction = model.predict(X_val_tfidf_10000)\n",
    "    print(\"Train accuracy: \", accuracy_score(y_train, train_prediction))\n",
    "    print(\"Val accuracy: \", accuracy_score(y_val, val_prediction))\n",
    "    print()\n",
    "    print()\n",
    "    \n",
    "    print(f\"-----------------Результат для {model_name} + tfidf_8000-----------------\")\n",
    "    model.fit(X_train_tfidf_8000, y_train)\n",
    "    train_prediction = model.predict(X_train_tfidf_8000)\n",
    "    val_prediction = model.predict(X_val_tfidf_8000)\n",
    "    print(\"Train accuracy: \", accuracy_score(y_train, train_prediction))\n",
    "    print(\"Val accuracy: \", accuracy_score(y_val, val_prediction))\n",
    "    print()\n",
    "    print()\n",
    "\n",
    "    print(f\"-----------------Результат для {model_name} + tfidf_5000-----------------\")\n",
    "    model.fit(X_train_tfidf_5000, y_train)\n",
    "    train_prediction = model.predict(X_train_tfidf_5000)\n",
    "    val_prediction = model.predict(X_val_tfidf_5000)\n",
    "    print(\"Train accuracy: \", accuracy_score(y_train, train_prediction))\n",
    "    print(\"Val accuracy: \", accuracy_score(y_val, val_prediction))\n",
    "    print()\n",
    "    print()\n",
    "\n",
    "    print(f\"-----------------Результат для {model_name} + tfidf_2500-----------------\")\n",
    "    model.fit(X_train_tfidf_2500, y_train)\n",
    "    train_prediction = model.predict(X_train_tfidf_2500)\n",
    "    val_prediction = model.predict(X_val_tfidf_2500)\n",
    "    print(\"Train accuracy: \", accuracy_score(y_train, train_prediction))\n",
    "    print(\"Val accuracy: \", accuracy_score(y_val, val_prediction))\n",
    "    print()\n",
    "    print()"
   ]
  },
  {
   "cell_type": "markdown",
   "id": "a1db22f5-50cd-420b-80cc-49d912a577ab",
   "metadata": {},
   "source": [
    "## 1.2. Word2Vec <a id=\"chapter1.2\"></a>"
   ]
  },
  {
   "cell_type": "code",
   "execution_count": 12,
   "id": "28d36704-f940-46a3-b438-0bac6ddf6908",
   "metadata": {},
   "outputs": [],
   "source": [
    "X_train_split = [sentence.split() for sentence in X_train.values]\n",
    "X_val_split = [sentence.split() for sentence in X_val.values]"
   ]
  },
  {
   "cell_type": "code",
   "execution_count": 13,
   "id": "cb15656f-4554-4d26-aefa-8e4ef033253f",
   "metadata": {},
   "outputs": [],
   "source": [
    "import gensim"
   ]
  },
  {
   "cell_type": "code",
   "execution_count": 14,
   "id": "49721260-8c56-45c4-acdc-f2f50a359393",
   "metadata": {},
   "outputs": [],
   "source": [
    "w2v_50 = gensim.models.Word2Vec(\n",
    "    sentences=X_train_split, vector_size=50, window=5, min_count=2, workers=4\n",
    ")\n",
    "\n",
    "w2v_100 = gensim.models.Word2Vec(\n",
    "    sentences=X_train_split, vector_size=100, window=5, min_count=2, workers=4\n",
    ")\n",
    "\n",
    "w2v_150 = gensim.models.Word2Vec(\n",
    "    sentences=X_train_split, vector_size=150, window=5, min_count=2, workers=4\n",
    ")\n",
    "\n",
    "w2v_200 = gensim.models.Word2Vec(\n",
    "    sentences=X_train_split, vector_size=200, window=5, min_count=2, workers=4\n",
    ")"
   ]
  },
  {
   "cell_type": "code",
   "execution_count": 15,
   "id": "4ed1e7d6-dd3d-4875-bc5c-f48e7dc35bcf",
   "metadata": {},
   "outputs": [],
   "source": [
    "def vectorize_text(text_data, word2vec_model):\n",
    "    \"\"\"\n",
    "    Функция получения эмбеддингов для набора текстов.\n",
    "        text_data: набор текстов.\n",
    "        word2vec_model: обученная модель получения эмбеддингов для слов.\n",
    "    \"\"\"\n",
    "    vectors = []\n",
    "    for sentence in text_data:\n",
    "        no_vector = np.array([0]*word2vec_model.vector_size, dtype=np.float32)\n",
    "        if len(sentence) == 0:\n",
    "            vectors.append(no_vector)\n",
    "        else:\n",
    "            vector = np.mean([word2vec_model.wv[word] if word in word2vec_model.wv else no_vector for word in sentence], axis=0)\n",
    "            vectors.append(vector)\n",
    "    return np.array(vectors)"
   ]
  },
  {
   "cell_type": "code",
   "execution_count": 16,
   "id": "7518ebb4-63a4-408a-8d88-32fd81d7a9b1",
   "metadata": {},
   "outputs": [],
   "source": [
    "X_train_w2v_50 = vectorize_text(X_train_split, w2v_50)\n",
    "X_val_w2v_50 = vectorize_text(X_val_split, w2v_50)\n",
    "\n",
    "X_train_w2v_100 = vectorize_text(X_train_split, w2v_100)\n",
    "X_val_w2v_100 = vectorize_text(X_val_split, w2v_100)\n",
    "\n",
    "X_train_w2v_150 = vectorize_text(X_train_split, w2v_150)\n",
    "X_val_w2v_150 = vectorize_text(X_val_split, w2v_150)\n",
    "\n",
    "X_train_w2v_200 = vectorize_text(X_train_split, w2v_200)\n",
    "X_val_w2v_200 = vectorize_text(X_val_split, w2v_200)"
   ]
  },
  {
   "cell_type": "code",
   "execution_count": 17,
   "id": "9ae7cad9-711d-4c7f-91ef-88c94a46376c",
   "metadata": {},
   "outputs": [],
   "source": [
    "def try_model_with_word2vec(model, model_name: str = \"\"):\n",
    "    \n",
    "    global X_train_w2v_50, X_val_w2v_50\n",
    "    global X_train_w2v_100, X_val_w2v_100\n",
    "    global X_train_w2v_150, X_val_w2v_150\n",
    "    global X_train_w2v_200, X_val_w2v_200\n",
    "    global y_train, y_val\n",
    "\n",
    "    print(f\"-----------------Результат для {model_name} + w2v_50-----------------\")\n",
    "    model.fit(X_train_w2v_50, y_train)\n",
    "    train_prediction = model.predict(X_train_w2v_50)\n",
    "    val_prediction = model.predict(X_val_w2v_50)\n",
    "    print(\"Train accuracy: \", accuracy_score(y_train, train_prediction))\n",
    "    print(\"Val accuracy: \", accuracy_score(y_val, val_prediction))\n",
    "    print()\n",
    "    print()\n",
    "    \n",
    "    print(f\"-----------------Результат для {model_name} + w2v_100-----------------\")\n",
    "    model.fit(X_train_w2v_100, y_train)\n",
    "    train_prediction = model.predict(X_train_w2v_100)\n",
    "    val_prediction = model.predict(X_val_w2v_100)\n",
    "    print(\"Train accuracy: \", accuracy_score(y_train, train_prediction))\n",
    "    print(\"Val accuracy: \", accuracy_score(y_val, val_prediction))\n",
    "    print()\n",
    "    print()\n",
    "\n",
    "    print(f\"-----------------Результат для {model_name} + w2v_150-----------------\")\n",
    "    model.fit(X_train_w2v_150, y_train)\n",
    "    train_prediction = model.predict(X_train_w2v_150)\n",
    "    val_prediction = model.predict(X_val_w2v_150)\n",
    "    print(\"Train accuracy: \", accuracy_score(y_train, train_prediction))\n",
    "    print(\"Val accuracy: \", accuracy_score(y_val, val_prediction))\n",
    "    print()\n",
    "    print()\n",
    "\n",
    "    print(f\"-----------------Результат для {model_name} + w2v_200-----------------\")\n",
    "    model.fit(X_train_w2v_200, y_train)\n",
    "    train_prediction = model.predict(X_train_w2v_200)\n",
    "    val_prediction = model.predict(X_val_w2v_200)\n",
    "    print(\"Train accuracy: \", accuracy_score(y_train, train_prediction))\n",
    "    print(\"Val accuracy: \", accuracy_score(y_val, val_prediction))\n",
    "    print()\n",
    "    print()"
   ]
  },
  {
   "cell_type": "markdown",
   "id": "147b4ce6-16fd-41c1-b93d-1f5dde085137",
   "metadata": {},
   "source": [
    "<center id=\"chapter2\"><h1 style=\"font-size: 24px\"> 2. Пробуем разные модели. </h1></center>"
   ]
  },
  {
   "cell_type": "code",
   "execution_count": 18,
   "id": "091ab1b4-b023-4ae6-8baa-da353583e622",
   "metadata": {},
   "outputs": [],
   "source": [
    "from sklearn.multioutput import MultiOutputClassifier"
   ]
  },
  {
   "cell_type": "markdown",
   "id": "c59fd4bd-8060-4f55-9312-35ceeafa476d",
   "metadata": {},
   "source": [
    "## 2.1. Логистическая регрессия <a id=\"chapter2.1\"></a>"
   ]
  },
  {
   "cell_type": "code",
   "execution_count": 19,
   "id": "26bdfdc4-8ed7-424a-8356-1b6dc539a54c",
   "metadata": {},
   "outputs": [],
   "source": [
    "from sklearn.linear_model import LogisticRegression"
   ]
  },
  {
   "cell_type": "code",
   "execution_count": 20,
   "id": "6ec94199-4db4-4774-a0de-d5eb67832ba2",
   "metadata": {},
   "outputs": [],
   "source": [
    "log_clf = MultiOutputClassifier(LogisticRegression(max_iter=1000))"
   ]
  },
  {
   "cell_type": "code",
   "execution_count": 21,
   "id": "c8f8a619-0dc6-4ef3-a0f8-b04ece3c4fb1",
   "metadata": {},
   "outputs": [
    {
     "name": "stdout",
     "output_type": "stream",
     "text": [
      "-----------------Результат для Лог. регр. {max_iter=10000} + tfidf_10000-----------------\n",
      "Train accuracy:  0.2989665945686133\n",
      "Val accuracy:  0.22943722943722944\n",
      "\n",
      "\n",
      "-----------------Результат для Лог. регр. {max_iter=10000} + tfidf_8000-----------------\n",
      "Train accuracy:  0.2989665945686133\n",
      "Val accuracy:  0.22943722943722944\n",
      "\n",
      "\n",
      "-----------------Результат для Лог. регр. {max_iter=10000} + tfidf_5000-----------------\n",
      "Train accuracy:  0.2989665945686133\n",
      "Val accuracy:  0.22943722943722944\n",
      "\n",
      "\n",
      "-----------------Результат для Лог. регр. {max_iter=10000} + tfidf_2500-----------------\n",
      "Train accuracy:  0.30545541937034365\n",
      "Val accuracy:  0.23809523809523808\n",
      "\n",
      "\n"
     ]
    }
   ],
   "source": [
    "try_model_with_tfidf(log_clf, \"Лог. регр. {max_iter=10000}\")"
   ]
  },
  {
   "cell_type": "code",
   "execution_count": 24,
   "id": "652fa614-d55d-4c2d-81dd-589d3fe9535a",
   "metadata": {},
   "outputs": [
    {
     "name": "stdout",
     "output_type": "stream",
     "text": [
      "-----------------Результат для L2 Лог. регр. {max_iter=500} + tfidf_10000-----------------\n",
      "Train accuracy:  0.26508050949291034\n",
      "Val accuracy:  0.2012987012987013\n",
      "\n",
      "\n",
      "-----------------Результат для L2 Лог. регр. {max_iter=500} + tfidf_8000-----------------\n",
      "Train accuracy:  0.26508050949291034\n",
      "Val accuracy:  0.2012987012987013\n",
      "\n",
      "\n",
      "-----------------Результат для L2 Лог. регр. {max_iter=500} + tfidf_5000-----------------\n",
      "Train accuracy:  0.27180966113914923\n",
      "Val accuracy:  0.19913419913419914\n",
      "\n",
      "\n",
      "-----------------Результат для L2 Лог. регр. {max_iter=500} + tfidf_2500-----------------\n",
      "Train accuracy:  0.27950012016342224\n",
      "Val accuracy:  0.2077922077922078\n",
      "\n",
      "\n"
     ]
    }
   ],
   "source": [
    "log_clf = MultiOutputClassifier(LogisticRegression(max_iter=100, penalty='l2', solver='liblinear'))\n",
    "try_model_with_tfidf(log_clf, \"L2 Лог. регр. {max_iter=500}\")"
   ]
  },
  {
   "cell_type": "code",
   "execution_count": 53,
   "id": "25a45ace-7efd-4ff0-a84e-09a69e74cf51",
   "metadata": {},
   "outputs": [
    {
     "name": "stdout",
     "output_type": "stream",
     "text": [
      "-----------------Результат для Лог. регр. {max_iter=500} + w2v_50-----------------\n",
      "Train accuracy:  0.03148281663061764\n",
      "Val accuracy:  0.023809523809523808\n",
      "\n",
      "\n",
      "-----------------Результат для Лог. регр. {max_iter=500} + w2v_100-----------------\n",
      "Train accuracy:  0.020427781783225185\n",
      "Val accuracy:  0.017316017316017316\n",
      "\n",
      "\n",
      "-----------------Результат для Лог. регр. {max_iter=500} + w2v_150-----------------\n",
      "Train accuracy:  0.009853400624849795\n",
      "Val accuracy:  0.010822510822510822\n",
      "\n",
      "\n",
      "-----------------Результат для Лог. регр. {max_iter=500} + w2v_200-----------------\n",
      "Train accuracy:  0.0\n",
      "Val accuracy:  0.0\n",
      "\n",
      "\n"
     ]
    }
   ],
   "source": [
    "log_clf = MultiOutputClassifier(LogisticRegression(max_iter=500))\n",
    "try_model_with_word2vec(log_clf, \"Лог. регр. {max_iter=500}\")"
   ]
  },
  {
   "cell_type": "markdown",
   "id": "0c352e3e-3969-4c76-9379-71fd2cb2933c",
   "metadata": {},
   "source": [
    "## 2.2. Наивный Байес <a id=\"chapter2.2\"></a>"
   ]
  },
  {
   "cell_type": "code",
   "execution_count": 22,
   "id": "e388ea56-6532-4969-b5bc-044b157ddd51",
   "metadata": {},
   "outputs": [],
   "source": [
    "from sklearn.naive_bayes import GaussianNB, MultinomialNB, CategoricalNB, ComplementNB"
   ]
  },
  {
   "cell_type": "code",
   "execution_count": 31,
   "id": "bfae4bf9-e147-4a29-8088-c5cd27a157d7",
   "metadata": {},
   "outputs": [
    {
     "name": "stdout",
     "output_type": "stream",
     "text": [
      "-----------------Результат для Наивный Байес - Гаусс + tfidf_10000-----------------\n",
      "Train accuracy:  0.565969718817592\n",
      "Val accuracy:  0.03463203463203463\n",
      "\n",
      "\n",
      "-----------------Результат для Наивный Байес - Гаусс + tfidf_8000-----------------\n",
      "Train accuracy:  0.565969718817592\n",
      "Val accuracy:  0.03463203463203463\n",
      "\n",
      "\n",
      "-----------------Результат для Наивный Байес - Гаусс + tfidf_5000-----------------\n",
      "Train accuracy:  0.49170872386445563\n",
      "Val accuracy:  0.023809523809523808\n",
      "\n",
      "\n",
      "-----------------Результат для Наивный Байес - Гаусс + tfidf_2500-----------------\n",
      "Train accuracy:  0.34895457822638787\n",
      "Val accuracy:  0.025974025974025976\n",
      "\n",
      "\n"
     ]
    }
   ],
   "source": [
    "gaus_nb = MultiOutputClassifier(GaussianNB())\n",
    "try_model_with_tfidf(gaus_nb, \"Наивный Байес - Гаусс\")"
   ]
  },
  {
   "cell_type": "code",
   "execution_count": 33,
   "id": "2fe5d5f0-31d1-4c46-9ce8-1a1b02f06557",
   "metadata": {},
   "outputs": [
    {
     "name": "stdout",
     "output_type": "stream",
     "text": [
      "-----------------Результат для Наивный Байес - Мультиномиальный + tfidf_10000-----------------\n",
      "Train accuracy:  0.08435472242249459\n",
      "Val accuracy:  0.047619047619047616\n",
      "\n",
      "\n",
      "-----------------Результат для Наивный Байес - Мультиномиальный + tfidf_8000-----------------\n",
      "Train accuracy:  0.08435472242249459\n",
      "Val accuracy:  0.047619047619047616\n",
      "\n",
      "\n",
      "-----------------Результат для Наивный Байес - Мультиномиальный + tfidf_5000-----------------\n",
      "Train accuracy:  0.10430185051670271\n",
      "Val accuracy:  0.06060606060606061\n",
      "\n",
      "\n",
      "-----------------Результат для Наивный Байес - Мультиномиальный + tfidf_2500-----------------\n",
      "Train accuracy:  0.1514059120403749\n",
      "Val accuracy:  0.09956709956709957\n",
      "\n",
      "\n"
     ]
    }
   ],
   "source": [
    "multi_nb = MultiOutputClassifier(MultinomialNB())\n",
    "try_model_with_tfidf(multi_nb, \"Наивный Байес - Мультиномиальный\")"
   ]
  },
  {
   "cell_type": "code",
   "execution_count": 23,
   "id": "a78c9d54-cb6b-461f-b1a8-8d3d43962d6b",
   "metadata": {},
   "outputs": [
    {
     "name": "stdout",
     "output_type": "stream",
     "text": [
      "-----------------Результат для Наивный Байес - Complement + tfidf_10000-----------------\n",
      "Train accuracy:  0.3821196827685652\n",
      "Val accuracy:  0.21428571428571427\n",
      "\n",
      "\n",
      "-----------------Результат для Наивный Байес - Complement + tfidf_8000-----------------\n",
      "Train accuracy:  0.3821196827685652\n",
      "Val accuracy:  0.21428571428571427\n",
      "\n",
      "\n",
      "-----------------Результат для Наивный Байес - Complement + tfidf_5000-----------------\n",
      "Train accuracy:  0.3821196827685652\n",
      "Val accuracy:  0.21428571428571427\n",
      "\n",
      "\n",
      "-----------------Результат для Наивный Байес - Complement + tfidf_2500-----------------\n",
      "Train accuracy:  0.3491949050708964\n",
      "Val accuracy:  0.21645021645021645\n",
      "\n",
      "\n"
     ]
    }
   ],
   "source": [
    "com_nb = MultiOutputClassifier(ComplementNB())\n",
    "try_model_with_tfidf(com_nb, \"Наивный Байес - Complement\")"
   ]
  },
  {
   "cell_type": "code",
   "execution_count": 60,
   "id": "2ae31a6b-c615-4ce0-86b5-a2857b3d46a9",
   "metadata": {},
   "outputs": [
    {
     "name": "stdout",
     "output_type": "stream",
     "text": [
      "-----------------Результат для Наивный Байес - Complement + w2v_50-----------------\n",
      "Train accuracy:  0.006488824801730353\n",
      "Val accuracy:  0.015151515151515152\n",
      "\n",
      "\n",
      "-----------------Результат для Наивный Байес - Complement + w2v_100-----------------\n",
      "Train accuracy:  0.001201634222542658\n",
      "Val accuracy:  0.0021645021645021645\n",
      "\n",
      "\n",
      "-----------------Результат для Наивный Байес - Complement + w2v_150-----------------\n",
      "Train accuracy:  0.0007209805335255948\n",
      "Val accuracy:  0.0021645021645021645\n",
      "\n",
      "\n",
      "-----------------Результат для Наивный Байес - Complement + w2v_200-----------------\n",
      "Train accuracy:  0.0\n",
      "Val accuracy:  0.0\n",
      "\n",
      "\n"
     ]
    }
   ],
   "source": [
    "gaus_nb = MultiOutputClassifier(GaussianNB())\n",
    "try_model_with_word2vec(gaus_nb, \"Наивный Байес - Complement\")"
   ]
  },
  {
   "cell_type": "markdown",
   "id": "724809a0-a4ea-4fa9-be8b-342f9ca6047f",
   "metadata": {},
   "source": [
    "## 2.3. Дерево решений <a id=\"chapter2.3\"></a>"
   ]
  },
  {
   "cell_type": "code",
   "execution_count": 24,
   "id": "611fd474-c76e-4d75-a082-a5968153b83e",
   "metadata": {},
   "outputs": [],
   "source": [
    "from sklearn.tree import DecisionTreeClassifier"
   ]
  },
  {
   "cell_type": "code",
   "execution_count": 25,
   "id": "826d135f-b59f-4b15-b362-ac68ab96ee13",
   "metadata": {},
   "outputs": [
    {
     "name": "stdout",
     "output_type": "stream",
     "text": [
      "-----------------Результат для Дерево решений {min_samples_leaf=3, max_depth=50} + tfidf_10000-----------------\n",
      "Train accuracy:  0.5722182167748138\n",
      "Val accuracy:  0.29004329004329005\n",
      "\n",
      "\n",
      "-----------------Результат для Дерево решений {min_samples_leaf=3, max_depth=50} + tfidf_8000-----------------\n",
      "Train accuracy:  0.5726988704638308\n",
      "Val accuracy:  0.2878787878787879\n",
      "\n",
      "\n",
      "-----------------Результат для Дерево решений {min_samples_leaf=3, max_depth=50} + tfidf_5000-----------------\n",
      "Train accuracy:  0.5729391973083393\n",
      "Val accuracy:  0.29004329004329005\n",
      "\n",
      "\n",
      "-----------------Результат для Дерево решений {min_samples_leaf=3, max_depth=50} + tfidf_2500-----------------\n",
      "Train accuracy:  0.5794280221100697\n",
      "Val accuracy:  0.30303030303030304\n",
      "\n",
      "\n"
     ]
    }
   ],
   "source": [
    "tree = MultiOutputClassifier(DecisionTreeClassifier(min_samples_leaf=3, max_depth=50))\n",
    "try_model_with_tfidf(tree, \"Дерево решений {min_samples_leaf=3, max_depth=50}\")"
   ]
  },
  {
   "cell_type": "code",
   "execution_count": 28,
   "id": "cdd5ed55-b23c-4b00-8753-91ee021789de",
   "metadata": {},
   "outputs": [
    {
     "name": "stdout",
     "output_type": "stream",
     "text": [
      "-----------------Результат для Дерево решений {max_depth=35, min_samples_leaf=5} + tfidf_10000-----------------\n",
      "Train accuracy:  0.4784907474164864\n",
      "Val accuracy:  0.2987012987012987\n",
      "\n",
      "\n",
      "-----------------Результат для Дерево решений {max_depth=35, min_samples_leaf=5} + tfidf_8000-----------------\n",
      "Train accuracy:  0.4763278058159096\n",
      "Val accuracy:  0.3008658008658009\n",
      "\n",
      "\n",
      "-----------------Результат для Дерево решений {max_depth=35, min_samples_leaf=5} + tfidf_5000-----------------\n",
      "Train accuracy:  0.4784907474164864\n",
      "Val accuracy:  0.2943722943722944\n",
      "\n",
      "\n",
      "-----------------Результат для Дерево решений {max_depth=35, min_samples_leaf=5} + tfidf_2500-----------------\n",
      "Train accuracy:  0.483297284306657\n",
      "Val accuracy:  0.3246753246753247\n",
      "\n",
      "\n"
     ]
    }
   ],
   "source": [
    "tree = MultiOutputClassifier(DecisionTreeClassifier(max_depth=35, min_samples_leaf=5))\n",
    "try_model_with_tfidf(tree, \"Дерево решений {max_depth=35, min_samples_leaf=5}\")"
   ]
  },
  {
   "cell_type": "code",
   "execution_count": 26,
   "id": "dc1559cc-18fb-4c1c-b34b-caba19a1913a",
   "metadata": {},
   "outputs": [
    {
     "name": "stdout",
     "output_type": "stream",
     "text": [
      "-----------------Результат для Дерево решений {max_depth=40, min_samples_leaf=5} + tfidf_10000-----------------\n",
      "Train accuracy:  0.47368421052631576\n",
      "Val accuracy:  0.3051948051948052\n",
      "\n",
      "\n",
      "-----------------Результат для Дерево решений {max_depth=40, min_samples_leaf=5} + tfidf_8000-----------------\n",
      "Train accuracy:  0.4710406152367219\n",
      "Val accuracy:  0.3051948051948052\n",
      "\n",
      "\n",
      "-----------------Результат для Дерево решений {max_depth=40, min_samples_leaf=5} + tfidf_5000-----------------\n",
      "Train accuracy:  0.4732035568372987\n",
      "Val accuracy:  0.30303030303030304\n",
      "\n",
      "\n",
      "-----------------Результат для Дерево решений {max_depth=40, min_samples_leaf=5} + tfidf_2500-----------------\n",
      "Train accuracy:  0.47969238163902905\n",
      "Val accuracy:  0.3181818181818182\n",
      "\n",
      "\n"
     ]
    }
   ],
   "source": [
    "tree = MultiOutputClassifier(DecisionTreeClassifier(max_depth=20, min_samples_leaf=5, max_leaf_nodes=100))\n",
    "try_model_with_tfidf(tree, \"Дерево решений {max_depth=40, min_samples_leaf=5}\")"
   ]
  },
  {
   "cell_type": "code",
   "execution_count": 27,
   "id": "45d30e7c-8aac-46d3-8fdc-daf7f07a2dc9",
   "metadata": {},
   "outputs": [
    {
     "name": "stdout",
     "output_type": "stream",
     "text": [
      "-----------------Результат для Дерево решений {max_depth=35, min_samples_leaf=5} + w2v_50-----------------\n",
      "Train accuracy:  0.4768084595049267\n",
      "Val accuracy:  0.15584415584415584\n",
      "\n",
      "\n",
      "-----------------Результат для Дерево решений {max_depth=35, min_samples_leaf=5} + w2v_100-----------------\n",
      "Train accuracy:  0.4890651285748618\n",
      "Val accuracy:  0.14935064935064934\n",
      "\n",
      "\n",
      "-----------------Результат для Дерево решений {max_depth=35, min_samples_leaf=5} + w2v_150-----------------\n",
      "Train accuracy:  0.5039653929343908\n",
      "Val accuracy:  0.1471861471861472\n",
      "\n",
      "\n",
      "-----------------Результат для Дерево решений {max_depth=35, min_samples_leaf=5} + w2v_200-----------------\n",
      "Train accuracy:  0.4861812064407594\n",
      "Val accuracy:  0.14935064935064934\n",
      "\n",
      "\n"
     ]
    }
   ],
   "source": [
    "tree = MultiOutputClassifier(DecisionTreeClassifier(max_depth=35, min_samples_leaf=5))\n",
    "try_model_with_word2vec(tree, \"Дерево решений {max_depth=35, min_samples_leaf=5}\")"
   ]
  },
  {
   "cell_type": "markdown",
   "id": "d3086b20-62c5-4920-8b20-49a4bd1ac7b7",
   "metadata": {},
   "source": [
    "## 2.4. SVM <a id=\"chapter2.3\"></a>"
   ]
  },
  {
   "cell_type": "code",
   "execution_count": 47,
   "id": "34bba4d0-7db4-4518-8ee4-3e2dd4b2a2ca",
   "metadata": {},
   "outputs": [],
   "source": [
    "from sklearn.svm import SVC"
   ]
  },
  {
   "cell_type": "code",
   "execution_count": 48,
   "id": "2e3d8609-da8b-4fed-be49-4479d35f7a78",
   "metadata": {},
   "outputs": [
    {
     "name": "stdout",
     "output_type": "stream",
     "text": [
      "-----------------Результат для  + w2v_50-----------------\n",
      "Train accuracy:  0.031242489786109107\n",
      "Val accuracy:  0.02813852813852814\n",
      "\n",
      "\n",
      "-----------------Результат для  + w2v_100-----------------\n",
      "Train accuracy:  0.029560201874549386\n",
      "Val accuracy:  0.02813852813852814\n",
      "\n",
      "\n",
      "-----------------Результат для  + w2v_150-----------------\n",
      "Train accuracy:  0.029560201874549386\n",
      "Val accuracy:  0.02813852813852814\n",
      "\n",
      "\n",
      "-----------------Результат для  + w2v_200-----------------\n",
      "Train accuracy:  0.02859889449651526\n",
      "Val accuracy:  0.02813852813852814\n",
      "\n",
      "\n"
     ]
    }
   ],
   "source": [
    "svc = MultiOutputClassifier(SVC())\n",
    "try_model_with_word2vec(svc)"
   ]
  }
 ],
 "metadata": {
  "kernelspec": {
   "display_name": "Python 3 (ipykernel)",
   "language": "python",
   "name": "python3"
  },
  "language_info": {
   "codemirror_mode": {
    "name": "ipython",
    "version": 3
   },
   "file_extension": ".py",
   "mimetype": "text/x-python",
   "name": "python",
   "nbconvert_exporter": "python",
   "pygments_lexer": "ipython3",
   "version": "3.12.3"
  }
 },
 "nbformat": 4,
 "nbformat_minor": 5
}
