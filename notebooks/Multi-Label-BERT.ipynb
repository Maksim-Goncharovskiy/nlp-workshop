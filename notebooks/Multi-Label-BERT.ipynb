{
 "cells": [
  {
   "cell_type": "markdown",
   "id": "e01086f8-7ae4-4247-a229-9a198f211c53",
   "metadata": {},
   "source": [
    "<h1 style=\"text-align:center\">BERT для решения задачи multi-label классификации текстов.</h1>"
   ]
  },
  {
   "cell_type": "code",
   "execution_count": 1,
   "id": "d3fccd41-c838-4947-aeda-77e0824b3d00",
   "metadata": {},
   "outputs": [],
   "source": [
    "import numpy as np\n",
    "import pandas as pd"
   ]
  },
  {
   "cell_type": "code",
   "execution_count": 2,
   "id": "8bf7f668-0987-4e9c-ba76-e9efa5d8f260",
   "metadata": {},
   "outputs": [],
   "source": [
    "data = pd.read_csv(\"data.csv\", index_col='ID')"
   ]
  },
  {
   "cell_type": "code",
   "execution_count": 3,
   "id": "b09acefc-2147-4dc0-87da-e80e3cf44151",
   "metadata": {},
   "outputs": [],
   "source": [
    "data = data.loc[0:100]"
   ]
  },
  {
   "cell_type": "code",
   "execution_count": 4,
   "id": "48a36356-3ad4-431c-87b1-9c44b131d427",
   "metadata": {},
   "outputs": [
    {
     "data": {
      "text/html": [
       "<div>\n",
       "<style scoped>\n",
       "    .dataframe tbody tr th:only-of-type {\n",
       "        vertical-align: middle;\n",
       "    }\n",
       "\n",
       "    .dataframe tbody tr th {\n",
       "        vertical-align: top;\n",
       "    }\n",
       "\n",
       "    .dataframe thead th {\n",
       "        text-align: right;\n",
       "    }\n",
       "</style>\n",
       "<table border=\"1\" class=\"dataframe\">\n",
       "  <thead>\n",
       "    <tr style=\"text-align: right;\">\n",
       "      <th></th>\n",
       "      <th>TITLE</th>\n",
       "      <th>ABSTRACT</th>\n",
       "      <th>Computer Science</th>\n",
       "      <th>Physics</th>\n",
       "      <th>Mathematics</th>\n",
       "      <th>Statistics</th>\n",
       "      <th>Quantitative Biology</th>\n",
       "      <th>Quantitative Finance</th>\n",
       "    </tr>\n",
       "    <tr>\n",
       "      <th>ID</th>\n",
       "      <th></th>\n",
       "      <th></th>\n",
       "      <th></th>\n",
       "      <th></th>\n",
       "      <th></th>\n",
       "      <th></th>\n",
       "      <th></th>\n",
       "      <th></th>\n",
       "    </tr>\n",
       "  </thead>\n",
       "  <tbody>\n",
       "    <tr>\n",
       "      <th>1</th>\n",
       "      <td>Reconstructing Subject-Specific Effect Maps</td>\n",
       "      <td>Predictive models allow subject-specific inf...</td>\n",
       "      <td>1</td>\n",
       "      <td>0</td>\n",
       "      <td>0</td>\n",
       "      <td>0</td>\n",
       "      <td>0</td>\n",
       "      <td>0</td>\n",
       "    </tr>\n",
       "    <tr>\n",
       "      <th>2</th>\n",
       "      <td>Rotation Invariance Neural Network</td>\n",
       "      <td>Rotation invariance and translation invarian...</td>\n",
       "      <td>1</td>\n",
       "      <td>0</td>\n",
       "      <td>0</td>\n",
       "      <td>0</td>\n",
       "      <td>0</td>\n",
       "      <td>0</td>\n",
       "    </tr>\n",
       "  </tbody>\n",
       "</table>\n",
       "</div>"
      ],
      "text/plain": [
       "                                          TITLE  \\\n",
       "ID                                                \n",
       "1   Reconstructing Subject-Specific Effect Maps   \n",
       "2            Rotation Invariance Neural Network   \n",
       "\n",
       "                                             ABSTRACT  Computer Science  \\\n",
       "ID                                                                        \n",
       "1     Predictive models allow subject-specific inf...                 1   \n",
       "2     Rotation invariance and translation invarian...                 1   \n",
       "\n",
       "    Physics  Mathematics  Statistics  Quantitative Biology  \\\n",
       "ID                                                           \n",
       "1         0            0           0                     0   \n",
       "2         0            0           0                     0   \n",
       "\n",
       "    Quantitative Finance  \n",
       "ID                        \n",
       "1                      0  \n",
       "2                      0  "
      ]
     },
     "execution_count": 4,
     "metadata": {},
     "output_type": "execute_result"
    }
   ],
   "source": [
    "data.head(2)"
   ]
  },
  {
   "cell_type": "code",
   "execution_count": 5,
   "id": "f59c4832-5ff8-432a-bd47-c7bd9174c39d",
   "metadata": {},
   "outputs": [],
   "source": [
    "target_cols = [\n",
    "    'Computer Science',\n",
    "    'Physics',\n",
    "    'Mathematics',\n",
    "    'Statistics',\n",
    "    'Quantitative Biology',\n",
    "    'Quantitative Finance'\n",
    "]"
   ]
  },
  {
   "cell_type": "code",
   "execution_count": 6,
   "id": "55db4897-4623-4d6f-a73d-b91e7e8233f4",
   "metadata": {},
   "outputs": [
    {
     "data": {
      "text/html": [
       "<div>\n",
       "<style scoped>\n",
       "    .dataframe tbody tr th:only-of-type {\n",
       "        vertical-align: middle;\n",
       "    }\n",
       "\n",
       "    .dataframe tbody tr th {\n",
       "        vertical-align: top;\n",
       "    }\n",
       "\n",
       "    .dataframe thead th {\n",
       "        text-align: right;\n",
       "    }\n",
       "</style>\n",
       "<table border=\"1\" class=\"dataframe\">\n",
       "  <thead>\n",
       "    <tr style=\"text-align: right;\">\n",
       "      <th></th>\n",
       "      <th>text</th>\n",
       "    </tr>\n",
       "  </thead>\n",
       "  <tbody>\n",
       "    <tr>\n",
       "      <th>0</th>\n",
       "      <td>Predictive models allow subject-specific inf...</td>\n",
       "    </tr>\n",
       "    <tr>\n",
       "      <th>1</th>\n",
       "      <td>Rotation invariance and translation invarian...</td>\n",
       "    </tr>\n",
       "    <tr>\n",
       "      <th>2</th>\n",
       "      <td>We introduce and develop the notion of spher...</td>\n",
       "    </tr>\n",
       "  </tbody>\n",
       "</table>\n",
       "</div>"
      ],
      "text/plain": [
       "                                                text\n",
       "0    Predictive models allow subject-specific inf...\n",
       "1    Rotation invariance and translation invarian...\n",
       "2    We introduce and develop the notion of spher..."
      ]
     },
     "execution_count": 6,
     "metadata": {},
     "output_type": "execute_result"
    }
   ],
   "source": [
    "X_df = pd.DataFrame(\n",
    "    data['ABSTRACT'].values,\n",
    "    columns = ['text']\n",
    ") \n",
    "\n",
    "X_df.head(3)"
   ]
  },
  {
   "cell_type": "code",
   "execution_count": 7,
   "id": "096113d0-bb9c-4f7e-9395-f9af638858e3",
   "metadata": {},
   "outputs": [],
   "source": [
    "def make_target_list(row):\n",
    "    target_list = []\n",
    "    for target in target_cols:\n",
    "        target_list.append(row[target])\n",
    "    return target_list"
   ]
  },
  {
   "cell_type": "code",
   "execution_count": 8,
   "id": "b9b87e4a-049b-4872-a715-181d849a78de",
   "metadata": {},
   "outputs": [
    {
     "data": {
      "text/html": [
       "<div>\n",
       "<style scoped>\n",
       "    .dataframe tbody tr th:only-of-type {\n",
       "        vertical-align: middle;\n",
       "    }\n",
       "\n",
       "    .dataframe tbody tr th {\n",
       "        vertical-align: top;\n",
       "    }\n",
       "\n",
       "    .dataframe thead th {\n",
       "        text-align: right;\n",
       "    }\n",
       "</style>\n",
       "<table border=\"1\" class=\"dataframe\">\n",
       "  <thead>\n",
       "    <tr style=\"text-align: right;\">\n",
       "      <th></th>\n",
       "      <th>target_list</th>\n",
       "    </tr>\n",
       "    <tr>\n",
       "      <th>ID</th>\n",
       "      <th></th>\n",
       "    </tr>\n",
       "  </thead>\n",
       "  <tbody>\n",
       "    <tr>\n",
       "      <th>1</th>\n",
       "      <td>[1, 0, 0, 0, 0, 0]</td>\n",
       "    </tr>\n",
       "    <tr>\n",
       "      <th>2</th>\n",
       "      <td>[1, 0, 0, 0, 0, 0]</td>\n",
       "    </tr>\n",
       "    <tr>\n",
       "      <th>3</th>\n",
       "      <td>[0, 0, 1, 0, 0, 0]</td>\n",
       "    </tr>\n",
       "    <tr>\n",
       "      <th>4</th>\n",
       "      <td>[0, 0, 1, 0, 0, 0]</td>\n",
       "    </tr>\n",
       "    <tr>\n",
       "      <th>5</th>\n",
       "      <td>[1, 0, 0, 1, 0, 0]</td>\n",
       "    </tr>\n",
       "    <tr>\n",
       "      <th>...</th>\n",
       "      <td>...</td>\n",
       "    </tr>\n",
       "    <tr>\n",
       "      <th>96</th>\n",
       "      <td>[1, 0, 0, 1, 0, 0]</td>\n",
       "    </tr>\n",
       "    <tr>\n",
       "      <th>97</th>\n",
       "      <td>[1, 0, 0, 1, 0, 0]</td>\n",
       "    </tr>\n",
       "    <tr>\n",
       "      <th>98</th>\n",
       "      <td>[0, 0, 1, 0, 0, 0]</td>\n",
       "    </tr>\n",
       "    <tr>\n",
       "      <th>99</th>\n",
       "      <td>[0, 0, 1, 0, 0, 0]</td>\n",
       "    </tr>\n",
       "    <tr>\n",
       "      <th>100</th>\n",
       "      <td>[0, 1, 0, 0, 0, 0]</td>\n",
       "    </tr>\n",
       "  </tbody>\n",
       "</table>\n",
       "<p>100 rows × 1 columns</p>\n",
       "</div>"
      ],
      "text/plain": [
       "            target_list\n",
       "ID                     \n",
       "1    [1, 0, 0, 0, 0, 0]\n",
       "2    [1, 0, 0, 0, 0, 0]\n",
       "3    [0, 0, 1, 0, 0, 0]\n",
       "4    [0, 0, 1, 0, 0, 0]\n",
       "5    [1, 0, 0, 1, 0, 0]\n",
       "..                  ...\n",
       "96   [1, 0, 0, 1, 0, 0]\n",
       "97   [1, 0, 0, 1, 0, 0]\n",
       "98   [0, 0, 1, 0, 0, 0]\n",
       "99   [0, 0, 1, 0, 0, 0]\n",
       "100  [0, 1, 0, 0, 0, 0]\n",
       "\n",
       "[100 rows x 1 columns]"
      ]
     },
     "execution_count": 8,
     "metadata": {},
     "output_type": "execute_result"
    }
   ],
   "source": [
    "y_df = pd.DataFrame(data.apply(make_target_list, axis=1), columns=['target_list'])\n",
    "y_df"
   ]
  },
  {
   "cell_type": "code",
   "execution_count": 9,
   "id": "bd2a42ec-0c50-482f-87b5-14001a9e87ee",
   "metadata": {},
   "outputs": [],
   "source": [
    "from sklearn.model_selection import train_test_split\n",
    "\n",
    "X_train, X_val, y_train, y_val = train_test_split(\n",
    "    X_df, y_df, test_size=0.2, random_state=42\n",
    ")"
   ]
  },
  {
   "cell_type": "code",
   "execution_count": 10,
   "id": "3e1dacba-5fb9-4282-86d2-e2ac04876e92",
   "metadata": {},
   "outputs": [
    {
     "data": {
      "text/html": [
       "<div>\n",
       "<style scoped>\n",
       "    .dataframe tbody tr th:only-of-type {\n",
       "        vertical-align: middle;\n",
       "    }\n",
       "\n",
       "    .dataframe tbody tr th {\n",
       "        vertical-align: top;\n",
       "    }\n",
       "\n",
       "    .dataframe thead th {\n",
       "        text-align: right;\n",
       "    }\n",
       "</style>\n",
       "<table border=\"1\" class=\"dataframe\">\n",
       "  <thead>\n",
       "    <tr style=\"text-align: right;\">\n",
       "      <th></th>\n",
       "      <th>target_list</th>\n",
       "    </tr>\n",
       "    <tr>\n",
       "      <th>ID</th>\n",
       "      <th></th>\n",
       "    </tr>\n",
       "  </thead>\n",
       "  <tbody>\n",
       "    <tr>\n",
       "      <th>56</th>\n",
       "      <td>[0, 0, 0, 0, 1, 0]</td>\n",
       "    </tr>\n",
       "    <tr>\n",
       "      <th>89</th>\n",
       "      <td>[0, 1, 0, 0, 0, 0]</td>\n",
       "    </tr>\n",
       "    <tr>\n",
       "      <th>27</th>\n",
       "      <td>[1, 0, 0, 0, 0, 0]</td>\n",
       "    </tr>\n",
       "    <tr>\n",
       "      <th>43</th>\n",
       "      <td>[0, 1, 0, 0, 0, 0]</td>\n",
       "    </tr>\n",
       "    <tr>\n",
       "      <th>70</th>\n",
       "      <td>[0, 0, 1, 0, 0, 0]</td>\n",
       "    </tr>\n",
       "    <tr>\n",
       "      <th>...</th>\n",
       "      <td>...</td>\n",
       "    </tr>\n",
       "    <tr>\n",
       "      <th>61</th>\n",
       "      <td>[1, 0, 0, 0, 0, 0]</td>\n",
       "    </tr>\n",
       "    <tr>\n",
       "      <th>72</th>\n",
       "      <td>[0, 1, 0, 0, 0, 0]</td>\n",
       "    </tr>\n",
       "    <tr>\n",
       "      <th>15</th>\n",
       "      <td>[0, 1, 0, 0, 0, 0]</td>\n",
       "    </tr>\n",
       "    <tr>\n",
       "      <th>93</th>\n",
       "      <td>[0, 0, 1, 1, 0, 0]</td>\n",
       "    </tr>\n",
       "    <tr>\n",
       "      <th>52</th>\n",
       "      <td>[0, 1, 0, 0, 0, 0]</td>\n",
       "    </tr>\n",
       "  </tbody>\n",
       "</table>\n",
       "<p>80 rows × 1 columns</p>\n",
       "</div>"
      ],
      "text/plain": [
       "           target_list\n",
       "ID                    \n",
       "56  [0, 0, 0, 0, 1, 0]\n",
       "89  [0, 1, 0, 0, 0, 0]\n",
       "27  [1, 0, 0, 0, 0, 0]\n",
       "43  [0, 1, 0, 0, 0, 0]\n",
       "70  [0, 0, 1, 0, 0, 0]\n",
       "..                 ...\n",
       "61  [1, 0, 0, 0, 0, 0]\n",
       "72  [0, 1, 0, 0, 0, 0]\n",
       "15  [0, 1, 0, 0, 0, 0]\n",
       "93  [0, 0, 1, 1, 0, 0]\n",
       "52  [0, 1, 0, 0, 0, 0]\n",
       "\n",
       "[80 rows x 1 columns]"
      ]
     },
     "execution_count": 10,
     "metadata": {},
     "output_type": "execute_result"
    }
   ],
   "source": [
    "y_train"
   ]
  },
  {
   "cell_type": "code",
   "execution_count": null,
   "id": "e07a2dbe-4bd9-4944-a22b-8e298eaf4b88",
   "metadata": {},
   "outputs": [],
   "source": []
  },
  {
   "cell_type": "code",
   "execution_count": null,
   "id": "6d31c332-31a6-4f71-9c3d-ec030096a984",
   "metadata": {},
   "outputs": [],
   "source": []
  },
  {
   "cell_type": "code",
   "execution_count": null,
   "id": "ab59939c-1c9d-4075-8645-614a50bc3c3e",
   "metadata": {},
   "outputs": [],
   "source": []
  },
  {
   "cell_type": "markdown",
   "id": "8fc284ff-fa50-4db0-a8bb-87ed2a014a58",
   "metadata": {},
   "source": [
    "# Предобработка данных к нужному формату"
   ]
  },
  {
   "cell_type": "code",
   "execution_count": 11,
   "id": "d735d8c7-d0ef-4a1b-b50e-76035d00b366",
   "metadata": {},
   "outputs": [],
   "source": [
    "import torch\n",
    "from torch import nn\n",
    "from torch.utils.data import DataLoader, Dataset"
   ]
  },
  {
   "cell_type": "code",
   "execution_count": 12,
   "id": "503c587d-03d6-4c6c-9494-d1861bfcdaa7",
   "metadata": {},
   "outputs": [],
   "source": [
    "from transformers import BertModel, BertTokenizer"
   ]
  },
  {
   "cell_type": "code",
   "execution_count": 13,
   "id": "6f7d137d-ede4-4970-b9b9-238e90607b85",
   "metadata": {},
   "outputs": [],
   "source": [
    "device = \"cuda\" if torch.cuda.is_available() else \"cpu\""
   ]
  },
  {
   "cell_type": "code",
   "execution_count": 14,
   "id": "5905eb6c-16ac-4249-913c-c452a5c8fc1d",
   "metadata": {},
   "outputs": [],
   "source": [
    "import warnings\n",
    "warnings.filterwarnings(\"ignore\")"
   ]
  },
  {
   "cell_type": "code",
   "execution_count": 15,
   "id": "b42a0a54-cc45-47d9-a32a-c62210ba9791",
   "metadata": {},
   "outputs": [],
   "source": [
    "class TextDataset(Dataset):\n",
    "    \"\"\"Класс для преобразования датасета к нужному формату\"\"\"\n",
    "    def __init__(self, X, y, tokenizer, max_len=512):\n",
    "        self.tokenizer = tokenizer\n",
    "        self.sentences = X['text'].tolist()\n",
    "        self.labels = y['target_list'].tolist()\n",
    "        self.max_len = max_len\n",
    "\n",
    "    def __len__(self):\n",
    "        return len(self.sentences)\n",
    "\n",
    "    def __getitem__(self, idx):\n",
    "        text = self.sentences[idx]\n",
    "        target_list = self.labels[idx]\n",
    "        # токенизируем\n",
    "        inputs = self.tokenizer.encode_plus(\n",
    "            text=text, # наши данные\n",
    "            text_pair=None, # это для задачи вопросно-ответной системы, т.е. не для нас\n",
    "            add_special_tokens=True, # добавление спец-токенов, отвечающих за \"начало предложения\" [CLS] и \"конец предложения\" [SEP]\n",
    "            max_length=self.max_len, # максимальная длина последовательности\n",
    "            padding='max_length', # если в предложении меньше 64 токенов, то остальные заменяем на пустые\n",
    "            truncation=True, # если в предложениее 64+ токенов, то мы просто обрезаем их\n",
    "            return_token_type_ids=False, # это для задачи вопросно-ответной системы, т.е. не для нас\n",
    "            return_attention_mask=True, # это говорит нашей модели, какие токены важны, а какие просто как padding или [CLS] и т.д.\n",
    "            return_tensors='pt' # формат выдачи токенизатора, в нашем случае - torch тензор\n",
    "        )\n",
    "\n",
    "        # то что мы запихнем в модель\n",
    "        return {\n",
    "            'input_ids': inputs['input_ids'].flatten(), # это наши цифровые токены (т.е. для токена 'привет' будет какое-нибудь '105')\n",
    "            'attention_mask': inputs['attention_mask'].flatten(), # это наши маски\n",
    "            'labels': torch.tensor(target_list, dtype=torch.float)\n",
    "        }"
   ]
  },
  {
   "cell_type": "code",
   "execution_count": 16,
   "id": "29d52a7d-1b75-4cb9-88de-9d309164a0c4",
   "metadata": {},
   "outputs": [],
   "source": [
    "bert_model = BertModel.from_pretrained('bert-base-uncased', return_dict=False)\n",
    "bert_tokenizer = BertTokenizer.from_pretrained('bert-base-uncased')"
   ]
  },
  {
   "cell_type": "code",
   "execution_count": 17,
   "id": "48b1fa68-c941-453e-aa31-39f857c49028",
   "metadata": {},
   "outputs": [],
   "source": [
    "train_dataset = TextDataset(X_train, y_train, bert_tokenizer)\n",
    "val_dataset = TextDataset(X_val, y_val, bert_tokenizer)"
   ]
  },
  {
   "cell_type": "code",
   "execution_count": 18,
   "id": "48d7c2c7-2793-4d82-888f-c0fe4a880f99",
   "metadata": {},
   "outputs": [],
   "source": [
    "batch_size = 8\n",
    "\n",
    "train_data_loader = DataLoader(train_dataset, batch_size=batch_size, shuffle=False)\n",
    "val_data_loader = DataLoader(val_dataset, batch_size=batch_size, shuffle=False)"
   ]
  },
  {
   "cell_type": "markdown",
   "id": "050f24ec-7737-45b6-86a2-cabbbb182847",
   "metadata": {},
   "source": [
    "# Создадим архитеутру нейронки для решения задачи"
   ]
  },
  {
   "cell_type": "code",
   "execution_count": 19,
   "id": "e8b4a617-774e-4fe0-a58a-be93d8bd643f",
   "metadata": {},
   "outputs": [],
   "source": [
    "class BertMultiLabel(torch.nn.Module):\n",
    "    def __init__(self, bert):\n",
    "        super(BertMultiLabel, self).__init__()\n",
    "        self.bert = bert\n",
    "        self.dropout = torch.nn.Dropout(0.2)\n",
    "        self.fc = torch.nn.Linear(768, 6)\n",
    "\n",
    "    def forward(self, ids, mask):\n",
    "        _, output = self.bert(ids, attention_mask=mask)\n",
    "        output = self.dropout(output)\n",
    "        output = self.fc(output)\n",
    "        return output"
   ]
  },
  {
   "cell_type": "code",
   "execution_count": 20,
   "id": "f8af990e-0da2-4083-aa33-42430f1bff27",
   "metadata": {},
   "outputs": [
    {
     "data": {
      "text/plain": [
       "BertMultiLabel(\n",
       "  (bert): BertModel(\n",
       "    (embeddings): BertEmbeddings(\n",
       "      (word_embeddings): Embedding(30522, 768, padding_idx=0)\n",
       "      (position_embeddings): Embedding(512, 768)\n",
       "      (token_type_embeddings): Embedding(2, 768)\n",
       "      (LayerNorm): LayerNorm((768,), eps=1e-12, elementwise_affine=True)\n",
       "      (dropout): Dropout(p=0.1, inplace=False)\n",
       "    )\n",
       "    (encoder): BertEncoder(\n",
       "      (layer): ModuleList(\n",
       "        (0-11): 12 x BertLayer(\n",
       "          (attention): BertAttention(\n",
       "            (self): BertSdpaSelfAttention(\n",
       "              (query): Linear(in_features=768, out_features=768, bias=True)\n",
       "              (key): Linear(in_features=768, out_features=768, bias=True)\n",
       "              (value): Linear(in_features=768, out_features=768, bias=True)\n",
       "              (dropout): Dropout(p=0.1, inplace=False)\n",
       "            )\n",
       "            (output): BertSelfOutput(\n",
       "              (dense): Linear(in_features=768, out_features=768, bias=True)\n",
       "              (LayerNorm): LayerNorm((768,), eps=1e-12, elementwise_affine=True)\n",
       "              (dropout): Dropout(p=0.1, inplace=False)\n",
       "            )\n",
       "          )\n",
       "          (intermediate): BertIntermediate(\n",
       "            (dense): Linear(in_features=768, out_features=3072, bias=True)\n",
       "            (intermediate_act_fn): GELUActivation()\n",
       "          )\n",
       "          (output): BertOutput(\n",
       "            (dense): Linear(in_features=3072, out_features=768, bias=True)\n",
       "            (LayerNorm): LayerNorm((768,), eps=1e-12, elementwise_affine=True)\n",
       "            (dropout): Dropout(p=0.1, inplace=False)\n",
       "          )\n",
       "        )\n",
       "      )\n",
       "    )\n",
       "    (pooler): BertPooler(\n",
       "      (dense): Linear(in_features=768, out_features=768, bias=True)\n",
       "      (activation): Tanh()\n",
       "    )\n",
       "  )\n",
       "  (dropout): Dropout(p=0.2, inplace=False)\n",
       "  (fc): Linear(in_features=768, out_features=6, bias=True)\n",
       ")"
      ]
     },
     "execution_count": 20,
     "metadata": {},
     "output_type": "execute_result"
    }
   ],
   "source": [
    "custom_model = BertMultiLabel(bert_model)\n",
    "custom_model.to(device)"
   ]
  },
  {
   "cell_type": "code",
   "execution_count": 21,
   "id": "7ff3d485-bddc-44e5-b49c-4582d762746c",
   "metadata": {},
   "outputs": [],
   "source": [
    "loss_fn = torch.nn.BCEWithLogitsLoss()\n",
    "optimizer = torch.optim.Adam(params =  custom_model.parameters(), lr=1e-05)"
   ]
  },
  {
   "cell_type": "markdown",
   "id": "d9a570a5-7a41-4f04-ada3-53ab20d3fcf2",
   "metadata": {},
   "source": [
    "## Обучение модели"
   ]
  },
  {
   "cell_type": "code",
   "execution_count": 22,
   "id": "0df4ecfa-88f2-4418-bc77-3df6838fbc75",
   "metadata": {},
   "outputs": [],
   "source": [
    "import tqdm\n",
    "from tqdm.auto import tqdm\n",
    "\n",
    "def train_val(model, train_data_loader, val_data_loader, loss_fn, optimizer, device, num_epochs):\n",
    "    for t in tqdm(range(num_epochs)):\n",
    "        train_epoch_loss = []\n",
    "        eval_epoch_loss = []\n",
    "        \n",
    "        print(\"Эпоха номер: \", t)\n",
    "\n",
    "        # Обучение модели на текущей эпохе\n",
    "        model.train()\n",
    "        for train_data in tqdm(train_data_loader):\n",
    "            input_ids = train_data['input_ids'].to(device) # токены\n",
    "            attention_mask = train_data['attention_mask'].to(device) # маски\n",
    "            labels = train_data['labels'].to(device) # класс\n",
    "\n",
    "            outputs = model(input_ids, attention_mask) # результат модели\n",
    "            #_, preds = torch.max(outputs.logits, dim=1)\n",
    "            \n",
    "            loss = loss_fn(outputs, labels) # считаем потерю\n",
    "            train_epoch_loss.append(loss.item())\n",
    "\n",
    "\n",
    "            # Выполним подсчёт новых градиентов\n",
    "            loss.backward()\n",
    "            # Выполним шаг градиентного спуска\n",
    "            optimizer.step()\n",
    "            # Обнулим сохраненные у оптимизатора значения градиентов\n",
    "            # перед следующим шагом обучения\n",
    "            optimizer.zero_grad()\n",
    "\n",
    "        # Оценка модели на валидационных данных после обучения на текущей эпохе\n",
    "        model.eval()\n",
    "        for val_data in tqdm(val_data_loader):\n",
    "            input_ids = val_data['input_ids'].to(device) # токены\n",
    "            attention_mask = val_data['attention_mask'].to(device) # маски\n",
    "            labels = val_data['labels'].to(device) # класс\n",
    "\n",
    "\n",
    "            with torch.no_grad():\n",
    "                outputs = model(input_ids, attention_mask) # результат модели\n",
    "            \n",
    "                loss = loss_fn(outputs, labels) # считаем потерю\n",
    "                eval_epoch_loss.append(loss.item())\n",
    "\n",
    "        # Выведем результаты прошедшей эпохи обучения\n",
    "        print(\"Train loss: \", np.mean(train_epoch_loss))\n",
    "        print(\"Eval loss: \", np.mean(eval_epoch_loss))\n",
    "        \n",
    "    return model"
   ]
  },
  {
   "cell_type": "code",
   "execution_count": 23,
   "id": "9eabad85-2f24-4aa3-a16d-64b00ff6ffb7",
   "metadata": {},
   "outputs": [
    {
     "data": {
      "application/vnd.jupyter.widget-view+json": {
       "model_id": "4f7e0920a5ac46fb8807f0b6f1f527ce",
       "version_major": 2,
       "version_minor": 0
      },
      "text/plain": [
       "  0%|          | 0/1 [00:00<?, ?it/s]"
      ]
     },
     "metadata": {},
     "output_type": "display_data"
    },
    {
     "name": "stdout",
     "output_type": "stream",
     "text": [
      "Эпоха номер:  0\n"
     ]
    },
    {
     "data": {
      "application/vnd.jupyter.widget-view+json": {
       "model_id": "dc8d2f4f120f4b87b7e4e54272fbd528",
       "version_major": 2,
       "version_minor": 0
      },
      "text/plain": [
       "  0%|          | 0/10 [00:00<?, ?it/s]"
      ]
     },
     "metadata": {},
     "output_type": "display_data"
    },
    {
     "data": {
      "application/vnd.jupyter.widget-view+json": {
       "model_id": "185e972b34974e5d8c3ecd840a5c999d",
       "version_major": 2,
       "version_minor": 0
      },
      "text/plain": [
       "  0%|          | 0/3 [00:00<?, ?it/s]"
      ]
     },
     "metadata": {},
     "output_type": "display_data"
    },
    {
     "name": "stdout",
     "output_type": "stream",
     "text": [
      "Train loss:  0.6357570469379425\n",
      "Eval loss:  0.6081543564796448\n"
     ]
    }
   ],
   "source": [
    "trained_custom_model = train_val(custom_model, train_data_loader, val_data_loader, loss_fn, optimizer, device, 1)"
   ]
  },
  {
   "cell_type": "code",
   "execution_count": 24,
   "id": "e3ddcc63-1e89-49da-950b-26c4424c8589",
   "metadata": {},
   "outputs": [],
   "source": [
    "torch.save(trained_custom_model.state_dict(), \"./model\")"
   ]
  },
  {
   "cell_type": "code",
   "execution_count": null,
   "id": "a7dc5fdd-40a8-4b17-9225-8941345acefa",
   "metadata": {},
   "outputs": [],
   "source": []
  },
  {
   "cell_type": "code",
   "execution_count": 42,
   "id": "0948ddeb-8bea-475e-b402-1634a9bb79cf",
   "metadata": {},
   "outputs": [
    {
     "data": {
      "text/plain": [
       "tensor([[ 0.0213,  0.0105,  0.2872, -0.4165, -0.7102, -0.1550]],\n",
       "       grad_fn=<AddmmBackward0>)"
      ]
     },
     "execution_count": 42,
     "metadata": {},
     "output_type": "execute_result"
    }
   ],
   "source": [
    "ex_text = \"Hello world! My name is Maksim and I am ML engineer\"\n",
    "tokenized = bert_tokenizer.encode_plus(\n",
    "            text=ex_text, # наши данные\n",
    "            text_pair=None, # это для задачи вопросно-ответной системы, т.е. не для нас\n",
    "            add_special_tokens=True, # добавление спец-токенов, отвечающих за \"начало предложения\" [CLS] и \"конец предложения\" [SEP]\n",
    "            max_length=512, # максимальная длина последовательности\n",
    "            padding='max_length', # если в предложении меньше 64 токенов, то остальные заменяем на пустые\n",
    "            truncation=True, # если в предложениее 64+ токенов, то мы просто обрезаем их\n",
    "            return_token_type_ids=False, # это для задачи вопросно-ответной системы, т.е. не для нас\n",
    "            return_attention_mask=True, # это говорит нашей модели, какие токены важны, а какие просто как padding или [CLS] и т.д.\n",
    "            return_tensors='pt' # формат выдачи токенизатора, в нашем случае - torch тензор\n",
    "        )\n",
    "trained_custom_model(tokenized['input_ids'], tokenized['attention_mask'])"
   ]
  },
  {
   "cell_type": "markdown",
   "id": "ce15b0bc-e32e-426d-a869-d805545346d9",
   "metadata": {},
   "source": [
    "?????????????????"
   ]
  }
 ],
 "metadata": {
  "kernelspec": {
   "display_name": "Python 3 (ipykernel)",
   "language": "python",
   "name": "python3"
  },
  "language_info": {
   "codemirror_mode": {
    "name": "ipython",
    "version": 3
   },
   "file_extension": ".py",
   "mimetype": "text/x-python",
   "name": "python",
   "nbconvert_exporter": "python",
   "pygments_lexer": "ipython3",
   "version": "3.12.3"
  }
 },
 "nbformat": 4,
 "nbformat_minor": 5
}
